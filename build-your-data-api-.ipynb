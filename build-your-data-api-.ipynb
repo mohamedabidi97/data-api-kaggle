{
 "cells": [
  {
   "cell_type": "markdown",
   "id": "f0314354",
   "metadata": {
    "papermill": {
     "duration": 0.011486,
     "end_time": "2023-01-14T09:41:16.632152",
     "exception": false,
     "start_time": "2023-01-14T09:41:16.620666",
     "status": "completed"
    },
    "tags": []
   },
   "source": [
    "<center><img style=\"height: 500px;\" src=\"https://img.freepik.com/free-photo/no-people-desk-with-multiple-computers-call-center-office-used-by-telemarketing-agents-answer-phone-calls-helpline-empty-space-with-technology-give-assistance-customer-care_482257-40793.jpg?w=1380&t=st=1673164584~exp=1673165184~hmac=e8a64604ea41372a09589e5c40bc1451be61ec8a4be79da97130f7cbb1b7842b\"></img><br>\n",
    "</center>\n",
    "\n"
   ]
  },
  {
   "cell_type": "markdown",
   "id": "4aa0737c",
   "metadata": {
    "papermill": {
     "duration": 0.009544,
     "end_time": "2023-01-14T09:41:16.652006",
     "exception": false,
     "start_time": "2023-01-14T09:41:16.642462",
     "status": "completed"
    },
    "tags": []
   },
   "source": [
    "## <center><b>📚 Build a Data API</b></center>"
   ]
  },
  {
   "cell_type": "markdown",
   "id": "59fb376c",
   "metadata": {
    "papermill": {
     "duration": 0.011145,
     "end_time": "2023-01-14T09:41:16.672979",
     "exception": false,
     "start_time": "2023-01-14T09:41:16.661834",
     "status": "completed"
    },
    "tags": []
   },
   "source": [
    "## Introduction "
   ]
  },
  {
   "cell_type": "markdown",
   "id": "33a02400",
   "metadata": {
    "_cell_guid": "b1076dfc-b9ad-4769-8c92-a6c4dae69d19",
    "_uuid": "8f2839f25d086af736a60e9eeb907d3b93b6e0e5",
    "papermill": {
     "duration": 0.013011,
     "end_time": "2023-01-14T09:41:16.698488",
     "exception": false,
     "start_time": "2023-01-14T09:41:16.685477",
     "status": "completed"
    },
    "tags": []
   },
   "source": [
    "If you've worked in **data science** lately, you've probably been inundated with a slew of buzzwords referring to the **collection** and **manipulation** of data. NoSQL! Big Data! data applications! Processing! APIs! Latency! Databases! Cloud services! Real-time!\n",
    "\n",
    "As a data scientist, you should do much more than simply work with data and build Machine Learning models. \n",
    "The next step is to figure out how to make my work truly available for usage by the **general public**, which will be the **challenging** part\n",
    "\n",
    "If you want to develop **applications** that have some kind of **server/backend** for storing or processing data, and your applications use the internet (e.g., web applications, mobile apps, or internet-connected sensors), then this **notebook is** for you.\n",
    "\n",
    "**Welcome!**\n"
   ]
  },
  {
   "cell_type": "markdown",
   "id": "09a2df26",
   "metadata": {
    "papermill": {
     "duration": 0.010111,
     "end_time": "2023-01-14T09:41:16.722492",
     "exception": false,
     "start_time": "2023-01-14T09:41:16.712381",
     "status": "completed"
    },
    "tags": []
   },
   "source": [
    "## Objectives"
   ]
  },
  {
   "cell_type": "markdown",
   "id": "438cbcdc",
   "metadata": {
    "papermill": {
     "duration": 0.01538,
     "end_time": "2023-01-14T09:41:16.751065",
     "exception": false,
     "start_time": "2023-01-14T09:41:16.735685",
     "status": "completed"
    },
    "tags": []
   },
   "source": [
    "You can use this notebook as a roadmap to get to the following points: "
   ]
  },
  {
   "cell_type": "markdown",
   "id": "4cc5b2df",
   "metadata": {
    "papermill": {
     "duration": 0.009469,
     "end_time": "2023-01-14T09:41:16.770452",
     "exception": false,
     "start_time": "2023-01-14T09:41:16.760983",
     "status": "completed"
    },
    "tags": []
   },
   "source": [
    "- First, clean up your data!\n",
    "- Prepare your architecture, build your API, and save data into the database.\n",
    "- Finalize your API\n",
    "- Launch your API - Continue to test! "
   ]
  },
  {
   "cell_type": "markdown",
   "id": "990a1dc1",
   "metadata": {
    "papermill": {
     "duration": 0.009368,
     "end_time": "2023-01-14T09:41:16.789365",
     "exception": false,
     "start_time": "2023-01-14T09:41:16.779997",
     "status": "completed"
    },
    "tags": []
   },
   "source": [
    "## I- Beginning with data as usual 😺"
   ]
  },
  {
   "cell_type": "markdown",
   "id": "30d8e60a",
   "metadata": {
    "papermill": {
     "duration": 0.009365,
     "end_time": "2023-01-14T09:41:16.808271",
     "exception": false,
     "start_time": "2023-01-14T09:41:16.798906",
     "status": "completed"
    },
    "tags": []
   },
   "source": [
    "As usual, we begin by reviewing and comprehending our data, most of you are familiar with this step. \n"
   ]
  },
  {
   "cell_type": "markdown",
   "id": "a73c6f8e",
   "metadata": {
    "papermill": {
     "duration": 0.009456,
     "end_time": "2023-01-14T09:41:16.827441",
     "exception": false,
     "start_time": "2023-01-14T09:41:16.817985",
     "status": "completed"
    },
    "tags": []
   },
   "source": [
    "### 1- Context\n",
    "\n",
    "This dataset contains information on all of the movies and TV shows available on Netflix as of May 2022. In addition to basic information such as title, release year, andruntime, the dataset includes data on the cast and crew, IMDB score and number of votes, genres, production companies, and more. With this data, you can build models to find the best movies and TV shows on Netflix according to your own criteria\n",
    "\n",
    "\n",
    "\n",
    "Raw data file: this file contains all of the raw data for the movies and TV shows in the dataset.\n",
    "\n",
    "Best movie by year file: this file contains a list of the best movies by year, as determined by their IMDB score and number of votes.\n",
    "\n",
    "Best show by year file: this file contains a list of the best TV shows by year, as determined by their IMDB score and number of votes.\n",
    "\n",
    "Best movies file: this file contains all of the movies that pass the following criteria:\n",
    "\n",
    "- at least an IMDB score of 6.9\n",
    "- at least 10,000 votes\n",
    "\n",
    "Best shows file: this file contains all of the TV shows that pass the following criteria:\n",
    "- at least an IMDB score of 7.5\n",
    "- at least 10,000 votes\n",
    "\n"
   ]
  },
  {
   "cell_type": "markdown",
   "id": "57ff4569",
   "metadata": {
    "papermill": {
     "duration": 0.009287,
     "end_time": "2023-01-14T09:41:16.846347",
     "exception": false,
     "start_time": "2023-01-14T09:41:16.837060",
     "status": "completed"
    },
    "tags": []
   },
   "source": [
    "### 1- Import libraries 📑"
   ]
  },
  {
   "cell_type": "code",
   "execution_count": 1,
   "id": "f41864d3",
   "metadata": {
    "execution": {
     "iopub.execute_input": "2023-01-14T09:41:16.868457Z",
     "iopub.status.busy": "2023-01-14T09:41:16.867480Z",
     "iopub.status.idle": "2023-01-14T09:41:16.881998Z",
     "shell.execute_reply": "2023-01-14T09:41:16.880458Z"
    },
    "papermill": {
     "duration": 0.030081,
     "end_time": "2023-01-14T09:41:16.885947",
     "exception": false,
     "start_time": "2023-01-14T09:41:16.855866",
     "status": "completed"
    },
    "tags": []
   },
   "outputs": [],
   "source": [
    "# Data Manipulation\n",
    "import pandas as pd\n",
    "import numpy as np\n",
    "\n",
    "# HTML\n",
    "from IPython.display import HTML as html_print\n",
    "\n",
    "import base64"
   ]
  },
  {
   "cell_type": "markdown",
   "id": "230894ce",
   "metadata": {
    "papermill": {
     "duration": 0.010238,
     "end_time": "2023-01-14T09:41:16.910235",
     "exception": false,
     "start_time": "2023-01-14T09:41:16.899997",
     "status": "completed"
    },
    "tags": []
   },
   "source": [
    "### 2- First check at the data "
   ]
  },
  {
   "cell_type": "code",
   "execution_count": 2,
   "id": "403f76a0",
   "metadata": {
    "execution": {
     "iopub.execute_input": "2023-01-14T09:41:16.937531Z",
     "iopub.status.busy": "2023-01-14T09:41:16.936775Z",
     "iopub.status.idle": "2023-01-14T09:41:17.232967Z",
     "shell.execute_reply": "2023-01-14T09:41:17.231722Z"
    },
    "papermill": {
     "duration": 0.313458,
     "end_time": "2023-01-14T09:41:17.235725",
     "exception": false,
     "start_time": "2023-01-14T09:41:16.922267",
     "status": "completed"
    },
    "tags": []
   },
   "outputs": [],
   "source": [
    "# Read data\n",
    "best_movies_year = pd.read_csv(\"/kaggle/input/the-ultimate-netflix-tv-shows-and-movies-dataset/Best Movie by Year Netflix.csv\")\n",
    "best_movies = pd.read_csv(\"/kaggle/input/the-ultimate-netflix-tv-shows-and-movies-dataset/Best Movies Netflix.csv\")\n",
    "best_shows_year = pd.read_csv(\"/kaggle/input/the-ultimate-netflix-tv-shows-and-movies-dataset/Best Show by Year Netflix.csv\")\n",
    "best_shows = pd.read_csv(\"/kaggle/input/the-ultimate-netflix-tv-shows-and-movies-dataset/Best Shows Netflix.csv\")\n",
    "raw_credits = pd.read_csv(\"/kaggle/input/the-ultimate-netflix-tv-shows-and-movies-dataset/raw_credits.csv\")\n",
    "raw_titles = pd.read_csv(\"/kaggle/input/the-ultimate-netflix-tv-shows-and-movies-dataset/raw_titles.csv\")"
   ]
  },
  {
   "cell_type": "markdown",
   "id": "be5e4c1c",
   "metadata": {
    "papermill": {
     "duration": 0.009413,
     "end_time": "2023-01-14T09:41:17.255097",
     "exception": false,
     "start_time": "2023-01-14T09:41:17.245684",
     "status": "completed"
    },
    "tags": []
   },
   "source": [
    "#### 📌 There are numerous CSV files here, so let's figure out what we have. \n",
    "\n",
    "File: raw_titles.csv\n",
    "\n",
    "\n",
    "\n",
    "| Column name          | Description                                                 |\n",
    "|----------------------|-------------------------------------------------------------|\n",
    "| title                | The title of the movie or TV show. (String)                 |\n",
    "| type                 | The type of the movie or TV show. (String)                  |\n",
    "| release_year         | The year the movie or TV show was released. (Integer)       |\n",
    "| age_certification    | The age certification of the movie or TV show. (String)     |\n",
    "| runtime              | The runtime of the movie or TV show. (Integer)              |\n",
    "| genres               | The genres of the movie or TV show. (String)                |\n",
    "| production_countries | The production countries of the movie or TV show. (String)  |\n",
    "| seasons              | The number of seasons of the TV show. (Integer)             |\n",
    "| imdb_score           | The IMDB score of the movie or TV show. (Float)             |\n",
    "| imdb_votes           | The number of IMDB votes of the movie or TV show. (Integer) |\n",
    "\n",
    "\n",
    "File: Best Shows Netflix.csv\n",
    "\n",
    "|   Column name   |                                Description                               |\n",
    "|:---------------:|:------------------------------------------------------------------------:|\n",
    "| TITLE           | The title of the movie or TV show. (String)                              |\n",
    "| RELEASE_YEAR    | The year the movie or TV show was released. (Integer)                    |\n",
    "| SCORE           | The IMDB score for the movie or TV show. (Float)                         |\n",
    "| NUMBEROFVOTES   | The number of votes the movie or TV show has received on IMDB. (Integer) |\n",
    "| DURATION        | The duration of the movie or TV show in minutes. (Integer)               |\n",
    "| NUMBEROFSEASONS | The number of seasons the TV show has. (Integer)                         |\n",
    "| MAIN_GENRE      | The main genre of the movie or TV show. (String)                         |\n",
    "| MAIN_PRODUCTION | The main production company of the movie or TV show. (String)            |\n",
    "| imdb_score      | The IMDB score of the movie or TV show. (Float)                          |\n",
    "| imdb_votes      | The number of IMDB votes of the movie or TV show. (Integer)              |\n",
    "\n",
    "File: raw_credits.csv\n",
    "\n",
    "| Column name |                                 Description                                 |\n",
    "|:-----------:|:---------------------------------------------------------------------------:|\n",
    "| name        | The name of the actor or actress. (String)                                  |\n",
    "| character   | The character the actor or actress played in the movie or TV show. (String) |\n",
    "| role        | The role the actor or actress played in the movie or TV show. (String)      |\n",
    "\n",
    "File: Best Movies Netflix.csv\n",
    "\n",
    "File: Best Movie by Year Netflix.csv\n",
    "\n",
    "File: Best Show by Year Netflix.csv\n",
    "\n",
    "\n",
    "|   Column name   |                                Description                               |\n",
    "|:---------------:|:------------------------------------------------------------------------:|\n",
    "| TITLE           | The title of the movie or TV show. (String)                              |\n",
    "| RELEASE_YEAR    | The year the movie or TV show was released. (Integer)                    |\n",
    "| SCORE           | The IMDB score for the movie or TV show. (Float)                         |\n",
    "| NUMBEROFVOTES   | The number of votes the movie or TV show has received on IMDB. (Integer) |\n",
    "| DURATION        | The duration of the movie or TV show in minutes. (Integer)               |\n",
    "| MAIN_GENRE      | The main genre of the movie or TV show. (String)                         |\n",
    "| MAIN_PRODUCTION | The main production company of the movie or TV show. (String)            |"
   ]
  },
  {
   "cell_type": "markdown",
   "id": "0b197872",
   "metadata": {
    "papermill": {
     "duration": 0.009347,
     "end_time": "2023-01-14T09:41:17.274292",
     "exception": false,
     "start_time": "2023-01-14T09:41:17.264945",
     "status": "completed"
    },
    "tags": []
   },
   "source": [
    "#### 📌 Let's know more about each of them. \n",
    "\n",
    "We can create a **function** to extract all the essential information from each **dataset** so that we don't have to manually go through each one. "
   ]
  },
  {
   "cell_type": "code",
   "execution_count": 3,
   "id": "0c37ab9f",
   "metadata": {
    "execution": {
     "iopub.execute_input": "2023-01-14T09:41:17.297220Z",
     "iopub.status.busy": "2023-01-14T09:41:17.296031Z",
     "iopub.status.idle": "2023-01-14T09:41:17.308277Z",
     "shell.execute_reply": "2023-01-14T09:41:17.307322Z"
    },
    "papermill": {
     "duration": 0.026413,
     "end_time": "2023-01-14T09:41:17.310896",
     "exception": false,
     "start_time": "2023-01-14T09:41:17.284483",
     "status": "completed"
    },
    "tags": []
   },
   "outputs": [],
   "source": [
    "def cprint(title, text, color='#e63e50'):\n",
    "    \"\"\"\n",
    "    It takes a title, text, and color as input, and returns a formatted HTML string\n",
    "    \n",
    "    :param title: The title of the section\n",
    "    :param text: the text to be displayed\n",
    "    :param color: The color of the title, defaults to #e63e50 (optional)\n",
    "    :return: the html_print function with the text argument.\n",
    "    \"\"\"\n",
    "    \n",
    "    text = \"<br><strong style=color:{}>{}:</strong><br>\".format(color, title) + \\\n",
    "            \"<text>{}</text><br>\".format(text)\n",
    "    return html_print(text)\n",
    "\n",
    "\n",
    "def check_datasets(df_list):\n",
    "    \"\"\"\n",
    "    It takes a list of dataframes as an input and prints out the name of the dataframe, the size of the\n",
    "    dataframe, the total number of null values in the dataframe, the data types of each column, and the\n",
    "    first two rows of the dataframe\n",
    "    \n",
    "    :param df_list: A list of dataframes\n",
    "    \"\"\"\n",
    "    \n",
    "    for index, df in enumerate(df_list):\n",
    "        display(cprint(\"\\n{} - Name of the dataset\\n\".format(index+1), str(df[1])))\n",
    "        display(cprint(\"{} - The size of the dataset \\n\".format(index+1) , df[0].shape))\n",
    "        display(cprint(\"{} - Total number of null values \\n\".format(index+1) , df[0].isnull().sum().sum()))\n",
    "        display(cprint(\"{} - Data types of each column \\n\".format(index+1) , \"\"))\n",
    "        display(df[0].dtypes)\n",
    "        print(\"\\n\")\n",
    "        display(df[0].head(2))\n",
    "        \n",
    "        \n",
    "def create_download_link(title = \"Download CSV file\", filename = \"data.csv\"):\n",
    "    \"\"\"\n",
    "    It takes a title and a filename as input, and returns a link to download a CSV file\n",
    "    \n",
    "    :param title: The title of the link, defaults to Download CSV file (optional)\n",
    "    :param filename: The name of the file that will be downloaded, defaults to data.csv (optional)\n",
    "    :return: A link to download the data.csv file.\n",
    "    \"\"\"\n",
    "    \n",
    "    html = '<a href={filename}>{title}</a>'\n",
    "    html = html.format(title=title,filename=filename)\n",
    "    return html_print(html)"
   ]
  },
  {
   "cell_type": "code",
   "execution_count": 4,
   "id": "515ccf6c",
   "metadata": {
    "execution": {
     "iopub.execute_input": "2023-01-14T09:41:17.333174Z",
     "iopub.status.busy": "2023-01-14T09:41:17.332386Z",
     "iopub.status.idle": "2023-01-14T09:41:17.500994Z",
     "shell.execute_reply": "2023-01-14T09:41:17.499712Z"
    },
    "papermill": {
     "duration": 0.182871,
     "end_time": "2023-01-14T09:41:17.503640",
     "exception": false,
     "start_time": "2023-01-14T09:41:17.320769",
     "status": "completed"
    },
    "tags": []
   },
   "outputs": [
    {
     "data": {
      "text/html": [
       "<br><strong style=color:#e63e50>\n",
       "1 - Name of the dataset\n",
       ":</strong><br><text>Best Movies By Year</text><br>"
      ],
      "text/plain": [
       "<IPython.core.display.HTML object>"
      ]
     },
     "metadata": {},
     "output_type": "display_data"
    },
    {
     "data": {
      "text/html": [
       "<br><strong style=color:#e63e50>1 - The size of the dataset \n",
       ":</strong><br><text>(49, 6)</text><br>"
      ],
      "text/plain": [
       "<IPython.core.display.HTML object>"
      ]
     },
     "metadata": {},
     "output_type": "display_data"
    },
    {
     "data": {
      "text/html": [
       "<br><strong style=color:#e63e50>1 - Total number of null values \n",
       ":</strong><br><text>0</text><br>"
      ],
      "text/plain": [
       "<IPython.core.display.HTML object>"
      ]
     },
     "metadata": {},
     "output_type": "display_data"
    },
    {
     "data": {
      "text/html": [
       "<br><strong style=color:#e63e50>1 - Data types of each column \n",
       ":</strong><br><text></text><br>"
      ],
      "text/plain": [
       "<IPython.core.display.HTML object>"
      ]
     },
     "metadata": {},
     "output_type": "display_data"
    },
    {
     "data": {
      "text/plain": [
       "index                int64\n",
       "TITLE               object\n",
       "RELEASE_YEAR         int64\n",
       "SCORE              float64\n",
       "MAIN_GENRE          object\n",
       "MAIN_PRODUCTION     object\n",
       "dtype: object"
      ]
     },
     "metadata": {},
     "output_type": "display_data"
    },
    {
     "name": "stdout",
     "output_type": "stream",
     "text": [
      "\n",
      "\n"
     ]
    },
    {
     "data": {
      "text/html": [
       "<div>\n",
       "<style scoped>\n",
       "    .dataframe tbody tr th:only-of-type {\n",
       "        vertical-align: middle;\n",
       "    }\n",
       "\n",
       "    .dataframe tbody tr th {\n",
       "        vertical-align: top;\n",
       "    }\n",
       "\n",
       "    .dataframe thead th {\n",
       "        text-align: right;\n",
       "    }\n",
       "</style>\n",
       "<table border=\"1\" class=\"dataframe\">\n",
       "  <thead>\n",
       "    <tr style=\"text-align: right;\">\n",
       "      <th></th>\n",
       "      <th>index</th>\n",
       "      <th>TITLE</th>\n",
       "      <th>RELEASE_YEAR</th>\n",
       "      <th>SCORE</th>\n",
       "      <th>MAIN_GENRE</th>\n",
       "      <th>MAIN_PRODUCTION</th>\n",
       "    </tr>\n",
       "  </thead>\n",
       "  <tbody>\n",
       "    <tr>\n",
       "      <th>0</th>\n",
       "      <td>0</td>\n",
       "      <td>White Christmas</td>\n",
       "      <td>1954</td>\n",
       "      <td>7.5</td>\n",
       "      <td>romance</td>\n",
       "      <td>US</td>\n",
       "    </tr>\n",
       "    <tr>\n",
       "      <th>1</th>\n",
       "      <td>1</td>\n",
       "      <td>The Guns of Navarone</td>\n",
       "      <td>1961</td>\n",
       "      <td>7.5</td>\n",
       "      <td>war</td>\n",
       "      <td>US</td>\n",
       "    </tr>\n",
       "  </tbody>\n",
       "</table>\n",
       "</div>"
      ],
      "text/plain": [
       "   index                 TITLE  RELEASE_YEAR  SCORE MAIN_GENRE MAIN_PRODUCTION\n",
       "0      0       White Christmas          1954    7.5    romance              US\n",
       "1      1  The Guns of Navarone          1961    7.5        war              US"
      ]
     },
     "metadata": {},
     "output_type": "display_data"
    },
    {
     "data": {
      "text/html": [
       "<br><strong style=color:#e63e50>\n",
       "2 - Name of the dataset\n",
       ":</strong><br><text>Best Movies</text><br>"
      ],
      "text/plain": [
       "<IPython.core.display.HTML object>"
      ]
     },
     "metadata": {},
     "output_type": "display_data"
    },
    {
     "data": {
      "text/html": [
       "<br><strong style=color:#e63e50>2 - The size of the dataset \n",
       ":</strong><br><text>(387, 8)</text><br>"
      ],
      "text/plain": [
       "<IPython.core.display.HTML object>"
      ]
     },
     "metadata": {},
     "output_type": "display_data"
    },
    {
     "data": {
      "text/html": [
       "<br><strong style=color:#e63e50>2 - Total number of null values \n",
       ":</strong><br><text>0</text><br>"
      ],
      "text/plain": [
       "<IPython.core.display.HTML object>"
      ]
     },
     "metadata": {},
     "output_type": "display_data"
    },
    {
     "data": {
      "text/html": [
       "<br><strong style=color:#e63e50>2 - Data types of each column \n",
       ":</strong><br><text></text><br>"
      ],
      "text/plain": [
       "<IPython.core.display.HTML object>"
      ]
     },
     "metadata": {},
     "output_type": "display_data"
    },
    {
     "data": {
      "text/plain": [
       "index                int64\n",
       "TITLE               object\n",
       "RELEASE_YEAR         int64\n",
       "SCORE              float64\n",
       "NUMBER_OF_VOTES      int64\n",
       "DURATION             int64\n",
       "MAIN_GENRE          object\n",
       "MAIN_PRODUCTION     object\n",
       "dtype: object"
      ]
     },
     "metadata": {},
     "output_type": "display_data"
    },
    {
     "name": "stdout",
     "output_type": "stream",
     "text": [
      "\n",
      "\n"
     ]
    },
    {
     "data": {
      "text/html": [
       "<div>\n",
       "<style scoped>\n",
       "    .dataframe tbody tr th:only-of-type {\n",
       "        vertical-align: middle;\n",
       "    }\n",
       "\n",
       "    .dataframe tbody tr th {\n",
       "        vertical-align: top;\n",
       "    }\n",
       "\n",
       "    .dataframe thead th {\n",
       "        text-align: right;\n",
       "    }\n",
       "</style>\n",
       "<table border=\"1\" class=\"dataframe\">\n",
       "  <thead>\n",
       "    <tr style=\"text-align: right;\">\n",
       "      <th></th>\n",
       "      <th>index</th>\n",
       "      <th>TITLE</th>\n",
       "      <th>RELEASE_YEAR</th>\n",
       "      <th>SCORE</th>\n",
       "      <th>NUMBER_OF_VOTES</th>\n",
       "      <th>DURATION</th>\n",
       "      <th>MAIN_GENRE</th>\n",
       "      <th>MAIN_PRODUCTION</th>\n",
       "    </tr>\n",
       "  </thead>\n",
       "  <tbody>\n",
       "    <tr>\n",
       "      <th>0</th>\n",
       "      <td>0</td>\n",
       "      <td>David Attenborough: A Life on Our Planet</td>\n",
       "      <td>2020</td>\n",
       "      <td>9.0</td>\n",
       "      <td>31180</td>\n",
       "      <td>83</td>\n",
       "      <td>documentary</td>\n",
       "      <td>GB</td>\n",
       "    </tr>\n",
       "    <tr>\n",
       "      <th>1</th>\n",
       "      <td>1</td>\n",
       "      <td>Inception</td>\n",
       "      <td>2010</td>\n",
       "      <td>8.8</td>\n",
       "      <td>2268288</td>\n",
       "      <td>148</td>\n",
       "      <td>scifi</td>\n",
       "      <td>GB</td>\n",
       "    </tr>\n",
       "  </tbody>\n",
       "</table>\n",
       "</div>"
      ],
      "text/plain": [
       "   index                                     TITLE  RELEASE_YEAR  SCORE  \\\n",
       "0      0  David Attenborough: A Life on Our Planet          2020    9.0   \n",
       "1      1                                 Inception          2010    8.8   \n",
       "\n",
       "   NUMBER_OF_VOTES  DURATION   MAIN_GENRE MAIN_PRODUCTION  \n",
       "0            31180        83  documentary              GB  \n",
       "1          2268288       148        scifi              GB  "
      ]
     },
     "metadata": {},
     "output_type": "display_data"
    },
    {
     "data": {
      "text/html": [
       "<br><strong style=color:#e63e50>\n",
       "3 - Name of the dataset\n",
       ":</strong><br><text>Best Shows by Year</text><br>"
      ],
      "text/plain": [
       "<IPython.core.display.HTML object>"
      ]
     },
     "metadata": {},
     "output_type": "display_data"
    },
    {
     "data": {
      "text/html": [
       "<br><strong style=color:#e63e50>3 - The size of the dataset \n",
       ":</strong><br><text>(31, 7)</text><br>"
      ],
      "text/plain": [
       "<IPython.core.display.HTML object>"
      ]
     },
     "metadata": {},
     "output_type": "display_data"
    },
    {
     "data": {
      "text/html": [
       "<br><strong style=color:#e63e50>3 - Total number of null values \n",
       ":</strong><br><text>0</text><br>"
      ],
      "text/plain": [
       "<IPython.core.display.HTML object>"
      ]
     },
     "metadata": {},
     "output_type": "display_data"
    },
    {
     "data": {
      "text/html": [
       "<br><strong style=color:#e63e50>3 - Data types of each column \n",
       ":</strong><br><text></text><br>"
      ],
      "text/plain": [
       "<IPython.core.display.HTML object>"
      ]
     },
     "metadata": {},
     "output_type": "display_data"
    },
    {
     "data": {
      "text/plain": [
       "index                  int64\n",
       "TITLE                 object\n",
       "RELEASE_YEAR           int64\n",
       "SCORE                float64\n",
       "NUMBER_OF_SEASONS      int64\n",
       "MAIN_GENRE            object\n",
       "MAIN_PRODUCTION       object\n",
       "dtype: object"
      ]
     },
     "metadata": {},
     "output_type": "display_data"
    },
    {
     "name": "stdout",
     "output_type": "stream",
     "text": [
      "\n",
      "\n"
     ]
    },
    {
     "data": {
      "text/html": [
       "<div>\n",
       "<style scoped>\n",
       "    .dataframe tbody tr th:only-of-type {\n",
       "        vertical-align: middle;\n",
       "    }\n",
       "\n",
       "    .dataframe tbody tr th {\n",
       "        vertical-align: top;\n",
       "    }\n",
       "\n",
       "    .dataframe thead th {\n",
       "        text-align: right;\n",
       "    }\n",
       "</style>\n",
       "<table border=\"1\" class=\"dataframe\">\n",
       "  <thead>\n",
       "    <tr style=\"text-align: right;\">\n",
       "      <th></th>\n",
       "      <th>index</th>\n",
       "      <th>TITLE</th>\n",
       "      <th>RELEASE_YEAR</th>\n",
       "      <th>SCORE</th>\n",
       "      <th>NUMBER_OF_SEASONS</th>\n",
       "      <th>MAIN_GENRE</th>\n",
       "      <th>MAIN_PRODUCTION</th>\n",
       "    </tr>\n",
       "  </thead>\n",
       "  <tbody>\n",
       "    <tr>\n",
       "      <th>0</th>\n",
       "      <td>0</td>\n",
       "      <td>Monty Python's Flying Circus</td>\n",
       "      <td>1969</td>\n",
       "      <td>8.8</td>\n",
       "      <td>4</td>\n",
       "      <td>comedy</td>\n",
       "      <td>GB</td>\n",
       "    </tr>\n",
       "    <tr>\n",
       "      <th>1</th>\n",
       "      <td>1</td>\n",
       "      <td>Knight Rider</td>\n",
       "      <td>1982</td>\n",
       "      <td>6.9</td>\n",
       "      <td>4</td>\n",
       "      <td>action</td>\n",
       "      <td>US</td>\n",
       "    </tr>\n",
       "  </tbody>\n",
       "</table>\n",
       "</div>"
      ],
      "text/plain": [
       "   index                         TITLE  RELEASE_YEAR  SCORE  \\\n",
       "0      0  Monty Python's Flying Circus          1969    8.8   \n",
       "1      1                  Knight Rider          1982    6.9   \n",
       "\n",
       "   NUMBER_OF_SEASONS MAIN_GENRE MAIN_PRODUCTION  \n",
       "0                  4     comedy              GB  \n",
       "1                  4     action              US  "
      ]
     },
     "metadata": {},
     "output_type": "display_data"
    },
    {
     "data": {
      "text/html": [
       "<br><strong style=color:#e63e50>\n",
       "4 - Name of the dataset\n",
       ":</strong><br><text>Best Shows</text><br>"
      ],
      "text/plain": [
       "<IPython.core.display.HTML object>"
      ]
     },
     "metadata": {},
     "output_type": "display_data"
    },
    {
     "data": {
      "text/html": [
       "<br><strong style=color:#e63e50>4 - The size of the dataset \n",
       ":</strong><br><text>(246, 9)</text><br>"
      ],
      "text/plain": [
       "<IPython.core.display.HTML object>"
      ]
     },
     "metadata": {},
     "output_type": "display_data"
    },
    {
     "data": {
      "text/html": [
       "<br><strong style=color:#e63e50>4 - Total number of null values \n",
       ":</strong><br><text>0</text><br>"
      ],
      "text/plain": [
       "<IPython.core.display.HTML object>"
      ]
     },
     "metadata": {},
     "output_type": "display_data"
    },
    {
     "data": {
      "text/html": [
       "<br><strong style=color:#e63e50>4 - Data types of each column \n",
       ":</strong><br><text></text><br>"
      ],
      "text/plain": [
       "<IPython.core.display.HTML object>"
      ]
     },
     "metadata": {},
     "output_type": "display_data"
    },
    {
     "data": {
      "text/plain": [
       "index                  int64\n",
       "TITLE                 object\n",
       "RELEASE_YEAR           int64\n",
       "SCORE                float64\n",
       "NUMBER_OF_VOTES        int64\n",
       "DURATION               int64\n",
       "NUMBER_OF_SEASONS      int64\n",
       "MAIN_GENRE            object\n",
       "MAIN_PRODUCTION       object\n",
       "dtype: object"
      ]
     },
     "metadata": {},
     "output_type": "display_data"
    },
    {
     "name": "stdout",
     "output_type": "stream",
     "text": [
      "\n",
      "\n"
     ]
    },
    {
     "data": {
      "text/html": [
       "<div>\n",
       "<style scoped>\n",
       "    .dataframe tbody tr th:only-of-type {\n",
       "        vertical-align: middle;\n",
       "    }\n",
       "\n",
       "    .dataframe tbody tr th {\n",
       "        vertical-align: top;\n",
       "    }\n",
       "\n",
       "    .dataframe thead th {\n",
       "        text-align: right;\n",
       "    }\n",
       "</style>\n",
       "<table border=\"1\" class=\"dataframe\">\n",
       "  <thead>\n",
       "    <tr style=\"text-align: right;\">\n",
       "      <th></th>\n",
       "      <th>index</th>\n",
       "      <th>TITLE</th>\n",
       "      <th>RELEASE_YEAR</th>\n",
       "      <th>SCORE</th>\n",
       "      <th>NUMBER_OF_VOTES</th>\n",
       "      <th>DURATION</th>\n",
       "      <th>NUMBER_OF_SEASONS</th>\n",
       "      <th>MAIN_GENRE</th>\n",
       "      <th>MAIN_PRODUCTION</th>\n",
       "    </tr>\n",
       "  </thead>\n",
       "  <tbody>\n",
       "    <tr>\n",
       "      <th>0</th>\n",
       "      <td>0</td>\n",
       "      <td>Breaking Bad</td>\n",
       "      <td>2008</td>\n",
       "      <td>9.5</td>\n",
       "      <td>1727694</td>\n",
       "      <td>48</td>\n",
       "      <td>5</td>\n",
       "      <td>drama</td>\n",
       "      <td>US</td>\n",
       "    </tr>\n",
       "    <tr>\n",
       "      <th>1</th>\n",
       "      <td>1</td>\n",
       "      <td>Avatar: The Last Airbender</td>\n",
       "      <td>2005</td>\n",
       "      <td>9.3</td>\n",
       "      <td>297336</td>\n",
       "      <td>24</td>\n",
       "      <td>3</td>\n",
       "      <td>scifi</td>\n",
       "      <td>US</td>\n",
       "    </tr>\n",
       "  </tbody>\n",
       "</table>\n",
       "</div>"
      ],
      "text/plain": [
       "   index                       TITLE  RELEASE_YEAR  SCORE  NUMBER_OF_VOTES  \\\n",
       "0      0                Breaking Bad          2008    9.5          1727694   \n",
       "1      1  Avatar: The Last Airbender          2005    9.3           297336   \n",
       "\n",
       "   DURATION  NUMBER_OF_SEASONS MAIN_GENRE MAIN_PRODUCTION  \n",
       "0        48                  5      drama              US  \n",
       "1        24                  3      scifi              US  "
      ]
     },
     "metadata": {},
     "output_type": "display_data"
    },
    {
     "data": {
      "text/html": [
       "<br><strong style=color:#e63e50>\n",
       "5 - Name of the dataset\n",
       ":</strong><br><text>Credits</text><br>"
      ],
      "text/plain": [
       "<IPython.core.display.HTML object>"
      ]
     },
     "metadata": {},
     "output_type": "display_data"
    },
    {
     "data": {
      "text/html": [
       "<br><strong style=color:#e63e50>5 - The size of the dataset \n",
       ":</strong><br><text>(77213, 6)</text><br>"
      ],
      "text/plain": [
       "<IPython.core.display.HTML object>"
      ]
     },
     "metadata": {},
     "output_type": "display_data"
    },
    {
     "data": {
      "text/html": [
       "<br><strong style=color:#e63e50>5 - Total number of null values \n",
       ":</strong><br><text>9627</text><br>"
      ],
      "text/plain": [
       "<IPython.core.display.HTML object>"
      ]
     },
     "metadata": {},
     "output_type": "display_data"
    },
    {
     "data": {
      "text/html": [
       "<br><strong style=color:#e63e50>5 - Data types of each column \n",
       ":</strong><br><text></text><br>"
      ],
      "text/plain": [
       "<IPython.core.display.HTML object>"
      ]
     },
     "metadata": {},
     "output_type": "display_data"
    },
    {
     "data": {
      "text/plain": [
       "index         int64\n",
       "person_id     int64\n",
       "id           object\n",
       "name         object\n",
       "character    object\n",
       "role         object\n",
       "dtype: object"
      ]
     },
     "metadata": {},
     "output_type": "display_data"
    },
    {
     "name": "stdout",
     "output_type": "stream",
     "text": [
      "\n",
      "\n"
     ]
    },
    {
     "data": {
      "text/html": [
       "<div>\n",
       "<style scoped>\n",
       "    .dataframe tbody tr th:only-of-type {\n",
       "        vertical-align: middle;\n",
       "    }\n",
       "\n",
       "    .dataframe tbody tr th {\n",
       "        vertical-align: top;\n",
       "    }\n",
       "\n",
       "    .dataframe thead th {\n",
       "        text-align: right;\n",
       "    }\n",
       "</style>\n",
       "<table border=\"1\" class=\"dataframe\">\n",
       "  <thead>\n",
       "    <tr style=\"text-align: right;\">\n",
       "      <th></th>\n",
       "      <th>index</th>\n",
       "      <th>person_id</th>\n",
       "      <th>id</th>\n",
       "      <th>name</th>\n",
       "      <th>character</th>\n",
       "      <th>role</th>\n",
       "    </tr>\n",
       "  </thead>\n",
       "  <tbody>\n",
       "    <tr>\n",
       "      <th>0</th>\n",
       "      <td>0</td>\n",
       "      <td>3748</td>\n",
       "      <td>tm84618</td>\n",
       "      <td>Robert De Niro</td>\n",
       "      <td>Travis Bickle</td>\n",
       "      <td>ACTOR</td>\n",
       "    </tr>\n",
       "    <tr>\n",
       "      <th>1</th>\n",
       "      <td>1</td>\n",
       "      <td>14658</td>\n",
       "      <td>tm84618</td>\n",
       "      <td>Jodie Foster</td>\n",
       "      <td>Iris Steensma</td>\n",
       "      <td>ACTOR</td>\n",
       "    </tr>\n",
       "  </tbody>\n",
       "</table>\n",
       "</div>"
      ],
      "text/plain": [
       "   index  person_id       id            name      character   role\n",
       "0      0       3748  tm84618  Robert De Niro  Travis Bickle  ACTOR\n",
       "1      1      14658  tm84618    Jodie Foster  Iris Steensma  ACTOR"
      ]
     },
     "metadata": {},
     "output_type": "display_data"
    },
    {
     "data": {
      "text/html": [
       "<br><strong style=color:#e63e50>\n",
       "6 - Name of the dataset\n",
       ":</strong><br><text>Titles</text><br>"
      ],
      "text/plain": [
       "<IPython.core.display.HTML object>"
      ]
     },
     "metadata": {},
     "output_type": "display_data"
    },
    {
     "data": {
      "text/html": [
       "<br><strong style=color:#e63e50>6 - The size of the dataset \n",
       ":</strong><br><text>(5806, 13)</text><br>"
      ],
      "text/plain": [
       "<IPython.core.display.HTML object>"
      ]
     },
     "metadata": {},
     "output_type": "display_data"
    },
    {
     "data": {
      "text/html": [
       "<br><strong style=color:#e63e50>6 - Total number of null values \n",
       ":</strong><br><text>7876</text><br>"
      ],
      "text/plain": [
       "<IPython.core.display.HTML object>"
      ]
     },
     "metadata": {},
     "output_type": "display_data"
    },
    {
     "data": {
      "text/html": [
       "<br><strong style=color:#e63e50>6 - Data types of each column \n",
       ":</strong><br><text></text><br>"
      ],
      "text/plain": [
       "<IPython.core.display.HTML object>"
      ]
     },
     "metadata": {},
     "output_type": "display_data"
    },
    {
     "data": {
      "text/plain": [
       "index                     int64\n",
       "id                       object\n",
       "title                    object\n",
       "type                     object\n",
       "release_year              int64\n",
       "age_certification        object\n",
       "runtime                   int64\n",
       "genres                   object\n",
       "production_countries     object\n",
       "seasons                 float64\n",
       "imdb_id                  object\n",
       "imdb_score              float64\n",
       "imdb_votes              float64\n",
       "dtype: object"
      ]
     },
     "metadata": {},
     "output_type": "display_data"
    },
    {
     "name": "stdout",
     "output_type": "stream",
     "text": [
      "\n",
      "\n"
     ]
    },
    {
     "data": {
      "text/html": [
       "<div>\n",
       "<style scoped>\n",
       "    .dataframe tbody tr th:only-of-type {\n",
       "        vertical-align: middle;\n",
       "    }\n",
       "\n",
       "    .dataframe tbody tr th {\n",
       "        vertical-align: top;\n",
       "    }\n",
       "\n",
       "    .dataframe thead th {\n",
       "        text-align: right;\n",
       "    }\n",
       "</style>\n",
       "<table border=\"1\" class=\"dataframe\">\n",
       "  <thead>\n",
       "    <tr style=\"text-align: right;\">\n",
       "      <th></th>\n",
       "      <th>index</th>\n",
       "      <th>id</th>\n",
       "      <th>title</th>\n",
       "      <th>type</th>\n",
       "      <th>release_year</th>\n",
       "      <th>age_certification</th>\n",
       "      <th>runtime</th>\n",
       "      <th>genres</th>\n",
       "      <th>production_countries</th>\n",
       "      <th>seasons</th>\n",
       "      <th>imdb_id</th>\n",
       "      <th>imdb_score</th>\n",
       "      <th>imdb_votes</th>\n",
       "    </tr>\n",
       "  </thead>\n",
       "  <tbody>\n",
       "    <tr>\n",
       "      <th>0</th>\n",
       "      <td>0</td>\n",
       "      <td>ts300399</td>\n",
       "      <td>Five Came Back: The Reference Films</td>\n",
       "      <td>SHOW</td>\n",
       "      <td>1945</td>\n",
       "      <td>TV-MA</td>\n",
       "      <td>48</td>\n",
       "      <td>['documentation']</td>\n",
       "      <td>['US']</td>\n",
       "      <td>1.0</td>\n",
       "      <td>NaN</td>\n",
       "      <td>NaN</td>\n",
       "      <td>NaN</td>\n",
       "    </tr>\n",
       "    <tr>\n",
       "      <th>1</th>\n",
       "      <td>1</td>\n",
       "      <td>tm84618</td>\n",
       "      <td>Taxi Driver</td>\n",
       "      <td>MOVIE</td>\n",
       "      <td>1976</td>\n",
       "      <td>R</td>\n",
       "      <td>113</td>\n",
       "      <td>['crime', 'drama']</td>\n",
       "      <td>['US']</td>\n",
       "      <td>NaN</td>\n",
       "      <td>tt0075314</td>\n",
       "      <td>8.3</td>\n",
       "      <td>795222.0</td>\n",
       "    </tr>\n",
       "  </tbody>\n",
       "</table>\n",
       "</div>"
      ],
      "text/plain": [
       "   index        id                                title   type  release_year  \\\n",
       "0      0  ts300399  Five Came Back: The Reference Films   SHOW          1945   \n",
       "1      1   tm84618                          Taxi Driver  MOVIE          1976   \n",
       "\n",
       "  age_certification  runtime              genres production_countries  \\\n",
       "0             TV-MA       48   ['documentation']               ['US']   \n",
       "1                 R      113  ['crime', 'drama']               ['US']   \n",
       "\n",
       "   seasons    imdb_id  imdb_score  imdb_votes  \n",
       "0      1.0        NaN         NaN         NaN  \n",
       "1      NaN  tt0075314         8.3    795222.0  "
      ]
     },
     "metadata": {},
     "output_type": "display_data"
    }
   ],
   "source": [
    "dfs = [\n",
    "          [best_movies_year, \"Best Movies By Year\"], \n",
    "          [best_movies, \"Best Movies\"],\n",
    "          [best_shows_year, \"Best Shows by Year\"],\n",
    "          [best_shows, \"Best Shows\"],\n",
    "          [raw_credits, \"Credits\"],\n",
    "          [raw_titles, \"Titles\"]\n",
    "      ]\n",
    "\n",
    "check_datasets(dfs)"
   ]
  },
  {
   "cell_type": "markdown",
   "id": "3c0341c6",
   "metadata": {
    "papermill": {
     "duration": 0.014355,
     "end_time": "2023-01-14T09:41:17.532987",
     "exception": false,
     "start_time": "2023-01-14T09:41:17.518632",
     "status": "completed"
    },
    "tags": []
   },
   "source": [
    "- Only the dataframes for \"Titles\" and \"Credits\" have missing values. \n",
    "\n",
    "- Each dataframe includes an additional \"index\" column.\n",
    "\n",
    "Sincerily, I anticipated more missing values, but hopefully not as many 😺.\n",
    "\n",
    "Let's study some statistical details before addressing the missing values of the two datasets. "
   ]
  },
  {
   "cell_type": "markdown",
   "id": "164d747e",
   "metadata": {
    "papermill": {
     "duration": 0.014554,
     "end_time": "2023-01-14T09:41:17.562961",
     "exception": false,
     "start_time": "2023-01-14T09:41:17.548407",
     "status": "completed"
    },
    "tags": []
   },
   "source": [
    "### 3 - Let's check at some dataset statistics ☟"
   ]
  },
  {
   "cell_type": "markdown",
   "id": "9d1a5071",
   "metadata": {
    "papermill": {
     "duration": 0.014494,
     "end_time": "2023-01-14T09:41:17.592247",
     "exception": false,
     "start_time": "2023-01-14T09:41:17.577753",
     "status": "completed"
    },
    "tags": []
   },
   "source": [
    "Starting with the datasets that include missing values. But let's first remove the superfluous \"index\" "
   ]
  },
  {
   "cell_type": "code",
   "execution_count": 5,
   "id": "37fc574c",
   "metadata": {
    "execution": {
     "iopub.execute_input": "2023-01-14T09:41:17.623546Z",
     "iopub.status.busy": "2023-01-14T09:41:17.623135Z",
     "iopub.status.idle": "2023-01-14T09:41:17.646646Z",
     "shell.execute_reply": "2023-01-14T09:41:17.645360Z"
    },
    "papermill": {
     "duration": 0.042142,
     "end_time": "2023-01-14T09:41:17.649179",
     "exception": false,
     "start_time": "2023-01-14T09:41:17.607037",
     "status": "completed"
    },
    "tags": []
   },
   "outputs": [],
   "source": [
    "# Delete \"index\" column from the datasets\n",
    "for df in dfs:\n",
    "    df[0].drop('index', axis=1, inplace=True)"
   ]
  },
  {
   "cell_type": "code",
   "execution_count": 6,
   "id": "8c7d234e",
   "metadata": {
    "execution": {
     "iopub.execute_input": "2023-01-14T09:41:17.681000Z",
     "iopub.status.busy": "2023-01-14T09:41:17.680614Z",
     "iopub.status.idle": "2023-01-14T09:41:17.736656Z",
     "shell.execute_reply": "2023-01-14T09:41:17.735482Z"
    },
    "papermill": {
     "duration": 0.075105,
     "end_time": "2023-01-14T09:41:17.739047",
     "exception": false,
     "start_time": "2023-01-14T09:41:17.663942",
     "status": "completed"
    },
    "tags": []
   },
   "outputs": [
    {
     "data": {
      "text/html": [
       "<div>\n",
       "<style scoped>\n",
       "    .dataframe tbody tr th:only-of-type {\n",
       "        vertical-align: middle;\n",
       "    }\n",
       "\n",
       "    .dataframe tbody tr th {\n",
       "        vertical-align: top;\n",
       "    }\n",
       "\n",
       "    .dataframe thead th {\n",
       "        text-align: right;\n",
       "    }\n",
       "</style>\n",
       "<table border=\"1\" class=\"dataframe\">\n",
       "  <thead>\n",
       "    <tr style=\"text-align: right;\">\n",
       "      <th></th>\n",
       "      <th>count</th>\n",
       "      <th>mean</th>\n",
       "      <th>std</th>\n",
       "      <th>min</th>\n",
       "      <th>25%</th>\n",
       "      <th>50%</th>\n",
       "      <th>75%</th>\n",
       "      <th>max</th>\n",
       "    </tr>\n",
       "  </thead>\n",
       "  <tbody>\n",
       "    <tr>\n",
       "      <th>person_id</th>\n",
       "      <td>77213.0</td>\n",
       "      <td>499460.322666</td>\n",
       "      <td>612843.136282</td>\n",
       "      <td>7.0</td>\n",
       "      <td>41584.0</td>\n",
       "      <td>182985.0</td>\n",
       "      <td>841557.0</td>\n",
       "      <td>2371585.0</td>\n",
       "    </tr>\n",
       "  </tbody>\n",
       "</table>\n",
       "</div>"
      ],
      "text/plain": [
       "             count           mean            std  min      25%       50%  \\\n",
       "person_id  77213.0  499460.322666  612843.136282  7.0  41584.0  182985.0   \n",
       "\n",
       "                75%        max  \n",
       "person_id  841557.0  2371585.0  "
      ]
     },
     "metadata": {},
     "output_type": "display_data"
    },
    {
     "data": {
      "text/html": [
       "<div>\n",
       "<style scoped>\n",
       "    .dataframe tbody tr th:only-of-type {\n",
       "        vertical-align: middle;\n",
       "    }\n",
       "\n",
       "    .dataframe tbody tr th {\n",
       "        vertical-align: top;\n",
       "    }\n",
       "\n",
       "    .dataframe thead th {\n",
       "        text-align: right;\n",
       "    }\n",
       "</style>\n",
       "<table border=\"1\" class=\"dataframe\">\n",
       "  <thead>\n",
       "    <tr style=\"text-align: right;\">\n",
       "      <th></th>\n",
       "      <th>count</th>\n",
       "      <th>mean</th>\n",
       "      <th>std</th>\n",
       "      <th>min</th>\n",
       "      <th>25%</th>\n",
       "      <th>50%</th>\n",
       "      <th>75%</th>\n",
       "      <th>max</th>\n",
       "    </tr>\n",
       "  </thead>\n",
       "  <tbody>\n",
       "    <tr>\n",
       "      <th>release_year</th>\n",
       "      <td>5806.0</td>\n",
       "      <td>2016.013434</td>\n",
       "      <td>7.324883</td>\n",
       "      <td>1945.0</td>\n",
       "      <td>2015.0</td>\n",
       "      <td>2018.0</td>\n",
       "      <td>2020.0</td>\n",
       "      <td>2022.0</td>\n",
       "    </tr>\n",
       "    <tr>\n",
       "      <th>runtime</th>\n",
       "      <td>5806.0</td>\n",
       "      <td>77.643989</td>\n",
       "      <td>39.474160</td>\n",
       "      <td>0.0</td>\n",
       "      <td>44.0</td>\n",
       "      <td>84.0</td>\n",
       "      <td>105.0</td>\n",
       "      <td>251.0</td>\n",
       "    </tr>\n",
       "    <tr>\n",
       "      <th>seasons</th>\n",
       "      <td>2047.0</td>\n",
       "      <td>2.165608</td>\n",
       "      <td>2.636207</td>\n",
       "      <td>1.0</td>\n",
       "      <td>1.0</td>\n",
       "      <td>1.0</td>\n",
       "      <td>2.0</td>\n",
       "      <td>42.0</td>\n",
       "    </tr>\n",
       "    <tr>\n",
       "      <th>imdb_score</th>\n",
       "      <td>5283.0</td>\n",
       "      <td>6.533447</td>\n",
       "      <td>1.160932</td>\n",
       "      <td>1.5</td>\n",
       "      <td>5.8</td>\n",
       "      <td>6.6</td>\n",
       "      <td>7.4</td>\n",
       "      <td>9.6</td>\n",
       "    </tr>\n",
       "    <tr>\n",
       "      <th>imdb_votes</th>\n",
       "      <td>5267.0</td>\n",
       "      <td>23407.194988</td>\n",
       "      <td>87134.315849</td>\n",
       "      <td>5.0</td>\n",
       "      <td>521.0</td>\n",
       "      <td>2279.0</td>\n",
       "      <td>10144.0</td>\n",
       "      <td>2268288.0</td>\n",
       "    </tr>\n",
       "  </tbody>\n",
       "</table>\n",
       "</div>"
      ],
      "text/plain": [
       "               count          mean           std     min     25%     50%  \\\n",
       "release_year  5806.0   2016.013434      7.324883  1945.0  2015.0  2018.0   \n",
       "runtime       5806.0     77.643989     39.474160     0.0    44.0    84.0   \n",
       "seasons       2047.0      2.165608      2.636207     1.0     1.0     1.0   \n",
       "imdb_score    5283.0      6.533447      1.160932     1.5     5.8     6.6   \n",
       "imdb_votes    5267.0  23407.194988  87134.315849     5.0   521.0  2279.0   \n",
       "\n",
       "                  75%        max  \n",
       "release_year   2020.0     2022.0  \n",
       "runtime         105.0      251.0  \n",
       "seasons           2.0       42.0  \n",
       "imdb_score        7.4        9.6  \n",
       "imdb_votes    10144.0  2268288.0  "
      ]
     },
     "metadata": {},
     "output_type": "display_data"
    }
   ],
   "source": [
    "display(raw_credits.describe().T)\n",
    "display(raw_titles.describe().T)"
   ]
  },
  {
   "cell_type": "markdown",
   "id": "4602071c",
   "metadata": {
    "papermill": {
     "duration": 0.014439,
     "end_time": "2023-01-14T09:41:17.768940",
     "exception": false,
     "start_time": "2023-01-14T09:41:17.754501",
     "status": "completed"
    },
    "tags": []
   },
   "source": [
    "- As indicated by the \"runtime\" column in the dataframe for \"raw titles\", Max value = 251 , Mean=77, Median =84 Here, the Max value is significantly greater than both Mean and the Median value. Hence, we can sense the presence of Outliers.\n",
    "\n",
    "Let's check if we have any interpretations that can be made by **categorical** columns"
   ]
  },
  {
   "cell_type": "code",
   "execution_count": 7,
   "id": "af6235f3",
   "metadata": {
    "execution": {
     "iopub.execute_input": "2023-01-14T09:41:17.799959Z",
     "iopub.status.busy": "2023-01-14T09:41:17.799572Z",
     "iopub.status.idle": "2023-01-14T09:41:17.933255Z",
     "shell.execute_reply": "2023-01-14T09:41:17.932202Z"
    },
    "papermill": {
     "duration": 0.151834,
     "end_time": "2023-01-14T09:41:17.935489",
     "exception": false,
     "start_time": "2023-01-14T09:41:17.783655",
     "status": "completed"
    },
    "tags": []
   },
   "outputs": [
    {
     "data": {
      "text/html": [
       "<div>\n",
       "<style scoped>\n",
       "    .dataframe tbody tr th:only-of-type {\n",
       "        vertical-align: middle;\n",
       "    }\n",
       "\n",
       "    .dataframe tbody tr th {\n",
       "        vertical-align: top;\n",
       "    }\n",
       "\n",
       "    .dataframe thead th {\n",
       "        text-align: right;\n",
       "    }\n",
       "</style>\n",
       "<table border=\"1\" class=\"dataframe\">\n",
       "  <thead>\n",
       "    <tr style=\"text-align: right;\">\n",
       "      <th></th>\n",
       "      <th>count</th>\n",
       "      <th>unique</th>\n",
       "      <th>top</th>\n",
       "      <th>freq</th>\n",
       "    </tr>\n",
       "  </thead>\n",
       "  <tbody>\n",
       "    <tr>\n",
       "      <th>id</th>\n",
       "      <td>5806</td>\n",
       "      <td>5806</td>\n",
       "      <td>ts300399</td>\n",
       "      <td>1</td>\n",
       "    </tr>\n",
       "    <tr>\n",
       "      <th>title</th>\n",
       "      <td>5805</td>\n",
       "      <td>5751</td>\n",
       "      <td>The Gift</td>\n",
       "      <td>3</td>\n",
       "    </tr>\n",
       "    <tr>\n",
       "      <th>type</th>\n",
       "      <td>5806</td>\n",
       "      <td>2</td>\n",
       "      <td>MOVIE</td>\n",
       "      <td>3759</td>\n",
       "    </tr>\n",
       "    <tr>\n",
       "      <th>age_certification</th>\n",
       "      <td>3196</td>\n",
       "      <td>11</td>\n",
       "      <td>TV-MA</td>\n",
       "      <td>841</td>\n",
       "    </tr>\n",
       "    <tr>\n",
       "      <th>genres</th>\n",
       "      <td>5806</td>\n",
       "      <td>1626</td>\n",
       "      <td>['comedy']</td>\n",
       "      <td>510</td>\n",
       "    </tr>\n",
       "    <tr>\n",
       "      <th>production_countries</th>\n",
       "      <td>5806</td>\n",
       "      <td>449</td>\n",
       "      <td>['US']</td>\n",
       "      <td>1950</td>\n",
       "    </tr>\n",
       "    <tr>\n",
       "      <th>imdb_id</th>\n",
       "      <td>5362</td>\n",
       "      <td>5362</td>\n",
       "      <td>tt0075314</td>\n",
       "      <td>1</td>\n",
       "    </tr>\n",
       "  </tbody>\n",
       "</table>\n",
       "</div>"
      ],
      "text/plain": [
       "                     count unique         top  freq\n",
       "id                    5806   5806    ts300399     1\n",
       "title                 5805   5751    The Gift     3\n",
       "type                  5806      2       MOVIE  3759\n",
       "age_certification     3196     11       TV-MA   841\n",
       "genres                5806   1626  ['comedy']   510\n",
       "production_countries  5806    449      ['US']  1950\n",
       "imdb_id               5362   5362   tt0075314     1"
      ]
     },
     "metadata": {},
     "output_type": "display_data"
    },
    {
     "data": {
      "text/html": [
       "<div>\n",
       "<style scoped>\n",
       "    .dataframe tbody tr th:only-of-type {\n",
       "        vertical-align: middle;\n",
       "    }\n",
       "\n",
       "    .dataframe tbody tr th {\n",
       "        vertical-align: top;\n",
       "    }\n",
       "\n",
       "    .dataframe thead th {\n",
       "        text-align: right;\n",
       "    }\n",
       "</style>\n",
       "<table border=\"1\" class=\"dataframe\">\n",
       "  <thead>\n",
       "    <tr style=\"text-align: right;\">\n",
       "      <th></th>\n",
       "      <th>count</th>\n",
       "      <th>unique</th>\n",
       "      <th>top</th>\n",
       "      <th>freq</th>\n",
       "    </tr>\n",
       "  </thead>\n",
       "  <tbody>\n",
       "    <tr>\n",
       "      <th>id</th>\n",
       "      <td>77213</td>\n",
       "      <td>5434</td>\n",
       "      <td>tm32982</td>\n",
       "      <td>208</td>\n",
       "    </tr>\n",
       "    <tr>\n",
       "      <th>name</th>\n",
       "      <td>77213</td>\n",
       "      <td>53687</td>\n",
       "      <td>Shah Rukh Khan</td>\n",
       "      <td>30</td>\n",
       "    </tr>\n",
       "    <tr>\n",
       "      <th>character</th>\n",
       "      <td>67586</td>\n",
       "      <td>47125</td>\n",
       "      <td>Self</td>\n",
       "      <td>1667</td>\n",
       "    </tr>\n",
       "    <tr>\n",
       "      <th>role</th>\n",
       "      <td>77213</td>\n",
       "      <td>2</td>\n",
       "      <td>ACTOR</td>\n",
       "      <td>72690</td>\n",
       "    </tr>\n",
       "  </tbody>\n",
       "</table>\n",
       "</div>"
      ],
      "text/plain": [
       "           count unique             top   freq\n",
       "id         77213   5434         tm32982    208\n",
       "name       77213  53687  Shah Rukh Khan     30\n",
       "character  67586  47125            Self   1667\n",
       "role       77213      2           ACTOR  72690"
      ]
     },
     "metadata": {},
     "output_type": "display_data"
    }
   ],
   "source": [
    "display(raw_titles.describe(include=object).T)\n",
    "display(raw_credits.describe(include=object).T)"
   ]
  },
  {
   "cell_type": "markdown",
   "id": "a7e39204",
   "metadata": {
    "papermill": {
     "duration": 0.014878,
     "end_time": "2023-01-14T09:41:17.965650",
     "exception": false,
     "start_time": "2023-01-14T09:41:17.950772",
     "status": "completed"
    },
    "tags": []
   },
   "source": [
    "- Highest occured class for genres is \"Comedy\" 🎭 ! nice 😹\n",
    "\n",
    "- It is evident that films and television shows produced in the US are the most popular ones. "
   ]
  },
  {
   "cell_type": "markdown",
   "id": "b5931295",
   "metadata": {
    "papermill": {
     "duration": 0.014961,
     "end_time": "2023-01-14T09:41:17.995845",
     "exception": false,
     "start_time": "2023-01-14T09:41:17.980884",
     "status": "completed"
    },
    "tags": []
   },
   "source": [
    "### 4 - Let's now resolve the missing values ⚙️"
   ]
  },
  {
   "cell_type": "code",
   "execution_count": 8,
   "id": "dba1d5a6",
   "metadata": {
    "execution": {
     "iopub.execute_input": "2023-01-14T09:41:18.028256Z",
     "iopub.status.busy": "2023-01-14T09:41:18.027796Z",
     "iopub.status.idle": "2023-01-14T09:41:18.052367Z",
     "shell.execute_reply": "2023-01-14T09:41:18.051260Z"
    },
    "papermill": {
     "duration": 0.043812,
     "end_time": "2023-01-14T09:41:18.054948",
     "exception": false,
     "start_time": "2023-01-14T09:41:18.011136",
     "status": "completed"
    },
    "tags": []
   },
   "outputs": [
    {
     "data": {
      "text/plain": [
       "person_id       0\n",
       "id              0\n",
       "name            0\n",
       "character    9627\n",
       "role            0\n",
       "dtype: int64"
      ]
     },
     "execution_count": 8,
     "metadata": {},
     "output_type": "execute_result"
    }
   ],
   "source": [
    "raw_credits.isnull().sum()"
   ]
  },
  {
   "cell_type": "markdown",
   "id": "c7d20a43",
   "metadata": {
    "papermill": {
     "duration": 0.016507,
     "end_time": "2023-01-14T09:41:18.087362",
     "exception": false,
     "start_time": "2023-01-14T09:41:18.070855",
     "status": "completed"
    },
    "tags": []
   },
   "source": [
    " - Since it is difficult to foresee the missing values in the \"character\" column, the best option is to **eliminate** those rows."
   ]
  },
  {
   "cell_type": "code",
   "execution_count": 9,
   "id": "f1b6cd36",
   "metadata": {
    "execution": {
     "iopub.execute_input": "2023-01-14T09:41:18.120380Z",
     "iopub.status.busy": "2023-01-14T09:41:18.119767Z",
     "iopub.status.idle": "2023-01-14T09:41:18.148768Z",
     "shell.execute_reply": "2023-01-14T09:41:18.147705Z"
    },
    "papermill": {
     "duration": 0.048472,
     "end_time": "2023-01-14T09:41:18.151366",
     "exception": false,
     "start_time": "2023-01-14T09:41:18.102894",
     "status": "completed"
    },
    "tags": []
   },
   "outputs": [],
   "source": [
    "raw_credits = raw_credits.dropna()"
   ]
  },
  {
   "cell_type": "code",
   "execution_count": 10,
   "id": "5188a04a",
   "metadata": {
    "execution": {
     "iopub.execute_input": "2023-01-14T09:41:18.184394Z",
     "iopub.status.busy": "2023-01-14T09:41:18.183981Z",
     "iopub.status.idle": "2023-01-14T09:41:18.195305Z",
     "shell.execute_reply": "2023-01-14T09:41:18.194229Z"
    },
    "papermill": {
     "duration": 0.030844,
     "end_time": "2023-01-14T09:41:18.197588",
     "exception": false,
     "start_time": "2023-01-14T09:41:18.166744",
     "status": "completed"
    },
    "tags": []
   },
   "outputs": [
    {
     "data": {
      "text/plain": [
       "id                         0\n",
       "title                      1\n",
       "type                       0\n",
       "release_year               0\n",
       "age_certification       2610\n",
       "runtime                    0\n",
       "genres                     0\n",
       "production_countries       0\n",
       "seasons                 3759\n",
       "imdb_id                  444\n",
       "imdb_score               523\n",
       "imdb_votes               539\n",
       "dtype: int64"
      ]
     },
     "execution_count": 10,
     "metadata": {},
     "output_type": "execute_result"
    }
   ],
   "source": [
    "raw_titles.isnull().sum()"
   ]
  },
  {
   "cell_type": "markdown",
   "id": "fd3eb886",
   "metadata": {
    "papermill": {
     "duration": 0.0151,
     "end_time": "2023-01-14T09:41:18.228000",
     "exception": false,
     "start_time": "2023-01-14T09:41:18.212900",
     "status": "completed"
    },
    "tags": []
   },
   "source": [
    "- In this dataframe as well, it is preferable to delete the rows with missing values. We can make some adjustments, such as replacing the missing values with \"no-score\" or \"no-age-certification,\" but we still don't need a lot of this data."
   ]
  },
  {
   "cell_type": "code",
   "execution_count": 11,
   "id": "e200ee20",
   "metadata": {
    "execution": {
     "iopub.execute_input": "2023-01-14T09:41:18.260882Z",
     "iopub.status.busy": "2023-01-14T09:41:18.260196Z",
     "iopub.status.idle": "2023-01-14T09:41:18.269756Z",
     "shell.execute_reply": "2023-01-14T09:41:18.268595Z"
    },
    "papermill": {
     "duration": 0.028961,
     "end_time": "2023-01-14T09:41:18.272356",
     "exception": false,
     "start_time": "2023-01-14T09:41:18.243395",
     "status": "completed"
    },
    "tags": []
   },
   "outputs": [],
   "source": [
    "raw_titles = raw_titles.dropna()"
   ]
  },
  {
   "cell_type": "markdown",
   "id": "4d252957",
   "metadata": {
    "papermill": {
     "duration": 0.015495,
     "end_time": "2023-01-14T09:41:18.305531",
     "exception": false,
     "start_time": "2023-01-14T09:41:18.290036",
     "status": "completed"
    },
    "tags": []
   },
   "source": [
    "Now that we have modified the datasets, let's download them because I will be utilising Pycharm locally. "
   ]
  },
  {
   "cell_type": "code",
   "execution_count": 12,
   "id": "2370f004",
   "metadata": {
    "execution": {
     "iopub.execute_input": "2023-01-14T09:41:18.339293Z",
     "iopub.status.busy": "2023-01-14T09:41:18.338665Z",
     "iopub.status.idle": "2023-01-14T09:41:18.549482Z",
     "shell.execute_reply": "2023-01-14T09:41:18.548357Z"
    },
    "papermill": {
     "duration": 0.230152,
     "end_time": "2023-01-14T09:41:18.551821",
     "exception": false,
     "start_time": "2023-01-14T09:41:18.321669",
     "status": "completed"
    },
    "tags": []
   },
   "outputs": [
    {
     "data": {
      "text/html": [
       "<a href=raw_titles.csv>Download CSV file</a>"
      ],
      "text/plain": [
       "<IPython.core.display.HTML object>"
      ]
     },
     "execution_count": 12,
     "metadata": {},
     "output_type": "execute_result"
    }
   ],
   "source": [
    "raw_titles.to_csv('raw_titles.csv')\n",
    "raw_credits.to_csv('raw_credits.csv')\n",
    "\n",
    "# create a link to download the dataframe which was saved with .to_csv method\n",
    "create_download_link(filename='raw_titles.csv')"
   ]
  },
  {
   "cell_type": "code",
   "execution_count": 13,
   "id": "da0db424",
   "metadata": {
    "execution": {
     "iopub.execute_input": "2023-01-14T09:41:18.584824Z",
     "iopub.status.busy": "2023-01-14T09:41:18.584161Z",
     "iopub.status.idle": "2023-01-14T09:41:18.591048Z",
     "shell.execute_reply": "2023-01-14T09:41:18.589843Z"
    },
    "papermill": {
     "duration": 0.026204,
     "end_time": "2023-01-14T09:41:18.593455",
     "exception": false,
     "start_time": "2023-01-14T09:41:18.567251",
     "status": "completed"
    },
    "tags": []
   },
   "outputs": [
    {
     "data": {
      "text/html": [
       "<a href=raw_credits.csv>Download CSV file</a>"
      ],
      "text/plain": [
       "<IPython.core.display.HTML object>"
      ]
     },
     "execution_count": 13,
     "metadata": {},
     "output_type": "execute_result"
    }
   ],
   "source": [
    "create_download_link(filename='raw_credits.csv')"
   ]
  },
  {
   "cell_type": "markdown",
   "id": "eae5ac75",
   "metadata": {
    "papermill": {
     "duration": 0.015173,
     "end_time": "2023-01-14T09:41:18.624288",
     "exception": false,
     "start_time": "2023-01-14T09:41:18.609115",
     "status": "completed"
    },
    "tags": []
   },
   "source": [
    "#### Step one is ended, let's go to the next 🙋‍♂️, shall we?"
   ]
  },
  {
   "cell_type": "markdown",
   "id": "7c64ced3",
   "metadata": {
    "papermill": {
     "duration": 0.015306,
     "end_time": "2023-01-14T09:41:18.655857",
     "exception": false,
     "start_time": "2023-01-14T09:41:18.640551",
     "status": "completed"
    },
    "tags": []
   },
   "source": [
    "## II - Let's use an architecture diagram to clarify things"
   ]
  },
  {
   "cell_type": "markdown",
   "id": "14713537",
   "metadata": {
    "papermill": {
     "duration": 0.016913,
     "end_time": "2023-01-14T09:41:18.688444",
     "exception": false,
     "start_time": "2023-01-14T09:41:18.671531",
     "status": "completed"
    },
    "tags": []
   },
   "source": [
    "We will examine each component of the diagram one at a time to know what will do next"
   ]
  },
  {
   "cell_type": "markdown",
   "id": "31f33469",
   "metadata": {
    "papermill": {
     "duration": 0.017487,
     "end_time": "2023-01-14T09:41:18.724224",
     "exception": false,
     "start_time": "2023-01-14T09:41:18.706737",
     "status": "completed"
    },
    "tags": []
   },
   "source": [
    "<center><img src=\"https://raw.githubusercontent.com/mohamedabidi97/data-api-kaggle/main/assets/architecture.png\"></img></center>"
   ]
  },
  {
   "cell_type": "markdown",
   "id": "ac180a6d",
   "metadata": {
    "papermill": {
     "duration": 0.017838,
     "end_time": "2023-01-14T09:41:18.766381",
     "exception": false,
     "start_time": "2023-01-14T09:41:18.748543",
     "status": "completed"
    },
    "tags": []
   },
   "source": [
    "As we can see, the diagram contains **3 major** components. Let's begin with them: "
   ]
  },
  {
   "cell_type": "markdown",
   "id": "6d6d0b8a",
   "metadata": {
    "papermill": {
     "duration": 0.015348,
     "end_time": "2023-01-14T09:41:18.802234",
     "exception": false,
     "start_time": "2023-01-14T09:41:18.786886",
     "status": "completed"
    },
    "tags": []
   },
   "source": [
    "- 1 - Interface: The client side, which may take the form of a web interface, a mobile interface, or even just a request call from a your terminal or other software like Postman.\n",
    "\n",
    "- 2 - Server: Can be a cloud server or your local server for testing, we will test on both, I'm pretty sure you will like this part\n",
    "\n",
    "- 3 - Database: Where you can keep your data, and we'll be using MongoDB, a NoSQL database. "
   ]
  },
  {
   "cell_type": "markdown",
   "id": "823f671d",
   "metadata": {
    "papermill": {
     "duration": 0.015211,
     "end_time": "2023-01-14T09:41:18.833093",
     "exception": false,
     "start_time": "2023-01-14T09:41:18.817882",
     "status": "completed"
    },
    "tags": []
   },
   "source": [
    "- Json: It is a common data format with diverse uses in electronic data interchange, including that of web applications with servers.\n",
    "- Logs: An application log is a file that contains information about events that have occurred within a software application. These events are logged out by the application and written to the file.\n",
    "- Fetch/Store: Getting data or storing data (from/to the database)\n"
   ]
  },
  {
   "cell_type": "markdown",
   "id": "03fc05f1",
   "metadata": {
    "papermill": {
     "duration": 0.015867,
     "end_time": "2023-01-14T09:41:18.864657",
     "exception": false,
     "start_time": "2023-01-14T09:41:18.848790",
     "status": "completed"
    },
    "tags": []
   },
   "source": [
    "## III - API"
   ]
  },
  {
   "cell_type": "markdown",
   "id": "354a6f4e",
   "metadata": {
    "papermill": {
     "duration": 0.016032,
     "end_time": "2023-01-14T09:41:18.896711",
     "exception": false,
     "start_time": "2023-01-14T09:41:18.880679",
     "status": "completed"
    },
    "tags": []
   },
   "source": [
    "An application programming interface (**API**) is a way for two or more computer programs to **communicate** with each other. It is a type of software interface, offering a service to other pieces of software."
   ]
  },
  {
   "cell_type": "markdown",
   "id": "a2640b7b",
   "metadata": {
    "papermill": {
     "duration": 0.015511,
     "end_time": "2023-01-14T09:41:18.928507",
     "exception": false,
     "start_time": "2023-01-14T09:41:18.912996",
     "status": "completed"
    },
    "tags": []
   },
   "source": [
    "### 1 - FastAPI"
   ]
  },
  {
   "cell_type": "markdown",
   "id": "a5523698",
   "metadata": {
    "papermill": {
     "duration": 0.017341,
     "end_time": "2023-01-14T09:41:18.961546",
     "exception": false,
     "start_time": "2023-01-14T09:41:18.944205",
     "status": "completed"
    },
    "tags": []
   },
   "source": [
    "FastAPI is a Web framework for developing **RESTful APIs** in Python. FastAPI is based on Pydantic and type hints to validate, serialize, and deserialize data, and automatically auto-generate OpenAPI documents.\n",
    "\n",
    "<center><img style=\"height: 500px;\" src=\"https://repository-images.githubusercontent.com/160919119/29516980-f308-11e9-9096-0836920fdae3\"></img></center>\n"
   ]
  },
  {
   "cell_type": "markdown",
   "id": "2f015fc5",
   "metadata": {
    "papermill": {
     "duration": 0.016589,
     "end_time": "2023-01-14T09:41:18.997716",
     "exception": false,
     "start_time": "2023-01-14T09:41:18.981127",
     "status": "completed"
    },
    "tags": []
   },
   "source": [
    "🔗 [FastAPI Documentation](https://fastapi.tiangolo.com/)"
   ]
  },
  {
   "cell_type": "markdown",
   "id": "0fda605f",
   "metadata": {
    "papermill": {
     "duration": 0.018264,
     "end_time": "2023-01-14T09:41:19.033848",
     "exception": false,
     "start_time": "2023-01-14T09:41:19.015584",
     "status": "completed"
    },
    "tags": []
   },
   "source": [
    "### 2 - Project Structure\n"
   ]
  },
  {
   "cell_type": "markdown",
   "id": "67415854",
   "metadata": {
    "papermill": {
     "duration": 0.017089,
     "end_time": "2023-01-14T09:41:19.069831",
     "exception": false,
     "start_time": "2023-01-14T09:41:19.052742",
     "status": "completed"
    },
    "tags": []
   },
   "source": [
    "Before we move into the coding, this is the structure of the API project.\n",
    "\n",
    "├── requirements\n",
    "\n",
    "├── src\n",
    "\n",
    "    └── routes\n",
    "    └── datasets\n",
    "    └── utils\n",
    "    └── .env\n",
    "    └── app.py\n",
    "\n",
    "├── venv\n",
    "\n",
    "├── server.py\n"
   ]
  },
  {
   "cell_type": "markdown",
   "id": "96360b17",
   "metadata": {
    "papermill": {
     "duration": 0.016185,
     "end_time": "2023-01-14T09:41:19.104773",
     "exception": false,
     "start_time": "2023-01-14T09:41:19.088588",
     "status": "completed"
    },
    "tags": []
   },
   "source": [
    "🫡 Don't worry, I will explain you each folder and file individually in the subsequent steps. "
   ]
  },
  {
   "cell_type": "markdown",
   "id": "844b58d2",
   "metadata": {
    "execution": {
     "iopub.execute_input": "2023-01-14T09:31:20.008854Z",
     "iopub.status.busy": "2023-01-14T09:31:20.008034Z",
     "iopub.status.idle": "2023-01-14T09:31:20.043221Z",
     "shell.execute_reply": "2023-01-14T09:31:20.040541Z",
     "shell.execute_reply.started": "2023-01-14T09:31:20.008737Z"
    },
    "papermill": {
     "duration": 0.017217,
     "end_time": "2023-01-14T09:41:19.138505",
     "exception": false,
     "start_time": "2023-01-14T09:41:19.121288",
     "status": "completed"
    },
    "tags": []
   },
   "source": [
    "As you can see in the structure section, we must first build a virtual environment for our API project, which is a folder called venv. \n",
    "The virtual environment tool creates a folder inside the project directory. By default, the folder is called venv , but you can give it a custom name too. It keeps Python and pip executable files inside the virtual environment folder.\n",
    "\n",
    "If you are using Pycharm, your environment will be immediately created when you start a project, or by the following the next steps, you can manually create and activate your environment depends on your operating system.\n",
    "\n",
    "Create an environement first using virtualenv :\n",
    "\n",
    "- Install the virtualenv package. Enter the following in your terminal :\n",
    "\n",
    ">pip install virtualenv\n",
    "\n",
    "- Create the virtual environment :\n",
    "\n",
    ">virtualenv nameofenv\n",
    "\n",
    "- Activate the virtual environment :\n",
    "\n",
    "For MacOS/Linux :\n",
    "\n",
    "> source mypython/bin/activate\n",
    "\n",
    "Windows :\n",
    "\n",
    "> mypthon\\Scripts\\activate\n",
    "\n",
    "- After finishing your work generate a requirements.txt file using\n",
    "\n",
    "> pip3 freeze > requirements.txt  # Python3\n",
    "> pip freeze > requirements.txt  # Python2"
   ]
  },
  {
   "cell_type": "markdown",
   "id": "7f4b7947",
   "metadata": {
    "papermill": {
     "duration": 0.018002,
     "end_time": "2023-01-14T09:41:19.174431",
     "exception": false,
     "start_time": "2023-01-14T09:41:19.156429",
     "status": "completed"
    },
    "tags": []
   },
   "source": [
    "## work in progress"
   ]
  }
 ],
 "metadata": {
  "kernelspec": {
   "display_name": "Python 3",
   "language": "python",
   "name": "python3"
  },
  "language_info": {
   "codemirror_mode": {
    "name": "ipython",
    "version": 3
   },
   "file_extension": ".py",
   "mimetype": "text/x-python",
   "name": "python",
   "nbconvert_exporter": "python",
   "pygments_lexer": "ipython3",
   "version": "3.7.12"
  },
  "papermill": {
   "default_parameters": {},
   "duration": 12.431187,
   "end_time": "2023-01-14T09:41:20.116565",
   "environment_variables": {},
   "exception": null,
   "input_path": "__notebook__.ipynb",
   "output_path": "__notebook__.ipynb",
   "parameters": {},
   "start_time": "2023-01-14T09:41:07.685378",
   "version": "2.3.4"
  }
 },
 "nbformat": 4,
 "nbformat_minor": 5
}
