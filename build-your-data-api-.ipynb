{
 "cells": [
  {
   "cell_type": "markdown",
   "id": "58364ebf",
   "metadata": {
    "papermill": {
     "duration": 0.009244,
     "end_time": "2023-01-07T15:39:10.547521",
     "exception": false,
     "start_time": "2023-01-07T15:39:10.538277",
     "status": "completed"
    },
    "tags": []
   },
   "source": [
    "<img src=\"https://raw.githubusercontent.com/mohamedabidi97/data-api-kaggle/main/assets/cover.png\"></img>"
   ]
  },
  {
   "cell_type": "markdown",
   "id": "4c878f2c",
   "metadata": {
    "papermill": {
     "duration": 0.007288,
     "end_time": "2023-01-07T15:39:10.562623",
     "exception": false,
     "start_time": "2023-01-07T15:39:10.555335",
     "status": "completed"
    },
    "tags": []
   },
   "source": [
    "## Introduction"
   ]
  },
  {
   "cell_type": "markdown",
   "id": "736878fd",
   "metadata": {
    "_cell_guid": "b1076dfc-b9ad-4769-8c92-a6c4dae69d19",
    "_uuid": "8f2839f25d086af736a60e9eeb907d3b93b6e0e5",
    "papermill": {
     "duration": 0.007193,
     "end_time": "2023-01-07T15:39:10.577703",
     "exception": false,
     "start_time": "2023-01-07T15:39:10.570510",
     "status": "completed"
    },
    "tags": []
   },
   "source": [
    "If you've worked in **data science** lately, you've probably been inundated with a slew of buzzwords referring to the **collection** and **manipulation** of data. NoSQL! Big Data! data applications! Processing! APIs! Latency! Databases! Cloud services! Real-time!\n",
    "\n",
    "As a data scientist, you should do much more than simply work with data and build Machine Learning models. \n",
    "The next step is to figure out how to make my work truly available for usage by the **general public**, which will be the **challenging** part\n",
    "\n",
    "If you want to develop **applications** that have some kind of **server/backend** for storing or processing data, and your applications use the internet (e.g., web applications, mobile apps, or internet-connected sensors), then this **notebook is** for you.\n",
    "\n",
    "**Welcome!**\n"
   ]
  },
  {
   "cell_type": "markdown",
   "id": "b8ffde77",
   "metadata": {
    "papermill": {
     "duration": 0.00777,
     "end_time": "2023-01-07T15:39:10.592820",
     "exception": false,
     "start_time": "2023-01-07T15:39:10.585050",
     "status": "completed"
    },
    "tags": []
   },
   "source": [
    "## Objectives"
   ]
  },
  {
   "cell_type": "markdown",
   "id": "534ab480",
   "metadata": {
    "papermill": {
     "duration": 0.007297,
     "end_time": "2023-01-07T15:39:10.607795",
     "exception": false,
     "start_time": "2023-01-07T15:39:10.600498",
     "status": "completed"
    },
    "tags": []
   },
   "source": [
    "You can use this notebook as a roadmap to get to the following points: "
   ]
  },
  {
   "cell_type": "markdown",
   "id": "126cbbc0",
   "metadata": {
    "papermill": {
     "duration": 0.00856,
     "end_time": "2023-01-07T15:39:10.623735",
     "exception": false,
     "start_time": "2023-01-07T15:39:10.615175",
     "status": "completed"
    },
    "tags": []
   },
   "source": [
    "- First, clean up your data!\n",
    "- Prepare your architecture, build your API, and save data into the database.\n",
    "- Finalize your API\n",
    "- Launch your API - Continue to test! "
   ]
  },
  {
   "cell_type": "markdown",
   "id": "36ef75b3",
   "metadata": {
    "papermill": {
     "duration": 0.007181,
     "end_time": "2023-01-07T15:39:10.638281",
     "exception": false,
     "start_time": "2023-01-07T15:39:10.631100",
     "status": "completed"
    },
    "tags": []
   },
   "source": [
    "## I- Beginning with data as usual 😺"
   ]
  },
  {
   "cell_type": "markdown",
   "id": "531ddd93",
   "metadata": {
    "papermill": {
     "duration": 0.007061,
     "end_time": "2023-01-07T15:39:10.652654",
     "exception": false,
     "start_time": "2023-01-07T15:39:10.645593",
     "status": "completed"
    },
    "tags": []
   },
   "source": [
    "As usual, we begin by reviewing and comprehending our data, most of you are familiar with this step. \n"
   ]
  },
  {
   "cell_type": "markdown",
   "id": "66a3fdd8",
   "metadata": {
    "papermill": {
     "duration": 0.007146,
     "end_time": "2023-01-07T15:39:10.666995",
     "exception": false,
     "start_time": "2023-01-07T15:39:10.659849",
     "status": "completed"
    },
    "tags": []
   },
   "source": [
    "### 1- Context\n",
    "\n",
    "This dataset contains information on all of the movies and TV shows available on Netflix as of May 2022. In addition to basic information such as title, release year, andruntime, the dataset includes data on the cast and crew, IMDB score and number of votes, genres, production companies, and more. With this data, you can build models to find the best movies and TV shows on Netflix according to your own criteria\n",
    "\n",
    "\n",
    "\n",
    "Raw data file: this file contains all of the raw data for the movies and TV shows in the dataset.\n",
    "\n",
    "Best movie by year file: this file contains a list of the best movies by year, as determined by their IMDB score and number of votes.\n",
    "\n",
    "Best show by year file: this file contains a list of the best TV shows by year, as determined by their IMDB score and number of votes.\n",
    "\n",
    "Best movies file: this file contains all of the movies that pass the following criteria:\n",
    "\n",
    "- at least an IMDB score of 6.9\n",
    "- at least 10,000 votes\n",
    "\n",
    "Best shows file: this file contains all of the TV shows that pass the following criteria:\n",
    "- at least an IMDB score of 7.5\n",
    "- at least 10,000 votes\n",
    "\n"
   ]
  },
  {
   "cell_type": "markdown",
   "id": "d16311c6",
   "metadata": {
    "papermill": {
     "duration": 0.006967,
     "end_time": "2023-01-07T15:39:10.681503",
     "exception": false,
     "start_time": "2023-01-07T15:39:10.674536",
     "status": "completed"
    },
    "tags": []
   },
   "source": [
    "### 1- Import libraries 📑"
   ]
  },
  {
   "cell_type": "code",
   "execution_count": 1,
   "id": "c14e078f",
   "metadata": {
    "execution": {
     "iopub.execute_input": "2023-01-07T15:39:10.698629Z",
     "iopub.status.busy": "2023-01-07T15:39:10.698065Z",
     "iopub.status.idle": "2023-01-07T15:39:10.709399Z",
     "shell.execute_reply": "2023-01-07T15:39:10.708381Z"
    },
    "papermill": {
     "duration": 0.023302,
     "end_time": "2023-01-07T15:39:10.712007",
     "exception": false,
     "start_time": "2023-01-07T15:39:10.688705",
     "status": "completed"
    },
    "tags": []
   },
   "outputs": [],
   "source": [
    "# Data Manipulation\n",
    "import pandas as pd\n",
    "import numpy as np\n",
    "\n",
    "# HTML\n",
    "from IPython.display import HTML as html_print"
   ]
  },
  {
   "cell_type": "markdown",
   "id": "cb160250",
   "metadata": {
    "papermill": {
     "duration": 0.007048,
     "end_time": "2023-01-07T15:39:10.726644",
     "exception": false,
     "start_time": "2023-01-07T15:39:10.719596",
     "status": "completed"
    },
    "tags": []
   },
   "source": [
    "### 2- First check at the data "
   ]
  },
  {
   "cell_type": "code",
   "execution_count": 2,
   "id": "03d422db",
   "metadata": {
    "execution": {
     "iopub.execute_input": "2023-01-07T15:39:10.743187Z",
     "iopub.status.busy": "2023-01-07T15:39:10.742331Z",
     "iopub.status.idle": "2023-01-07T15:39:11.064171Z",
     "shell.execute_reply": "2023-01-07T15:39:11.063267Z"
    },
    "papermill": {
     "duration": 0.332744,
     "end_time": "2023-01-07T15:39:11.066659",
     "exception": false,
     "start_time": "2023-01-07T15:39:10.733915",
     "status": "completed"
    },
    "tags": []
   },
   "outputs": [],
   "source": [
    "# Read data\n",
    "best_movies_year = pd.read_csv(\"/kaggle/input/the-ultimate-netflix-tv-shows-and-movies-dataset/Best Movie by Year Netflix.csv\")\n",
    "best_movies = pd.read_csv(\"/kaggle/input/the-ultimate-netflix-tv-shows-and-movies-dataset/Best Movies Netflix.csv\")\n",
    "best_shows_year = pd.read_csv(\"/kaggle/input/the-ultimate-netflix-tv-shows-and-movies-dataset/Best Show by Year Netflix.csv\")\n",
    "best_shows = pd.read_csv(\"/kaggle/input/the-ultimate-netflix-tv-shows-and-movies-dataset/Best Shows Netflix.csv\")\n",
    "raw_credits = pd.read_csv(\"/kaggle/input/the-ultimate-netflix-tv-shows-and-movies-dataset/raw_credits.csv\")\n",
    "raw_titles = pd.read_csv(\"/kaggle/input/the-ultimate-netflix-tv-shows-and-movies-dataset/raw_titles.csv\")"
   ]
  },
  {
   "cell_type": "markdown",
   "id": "9c3b5e0e",
   "metadata": {
    "papermill": {
     "duration": 0.007095,
     "end_time": "2023-01-07T15:39:11.081266",
     "exception": false,
     "start_time": "2023-01-07T15:39:11.074171",
     "status": "completed"
    },
    "tags": []
   },
   "source": [
    "#### 📌 There are numerous CSV files here, so let's figure out what we have. \n",
    "\n",
    "File: raw_titles.csv\n",
    "\n",
    "\n",
    "\n",
    "| Column name          | Description                                                 |\n",
    "|----------------------|-------------------------------------------------------------|\n",
    "| title                | The title of the movie or TV show. (String)                 |\n",
    "| type                 | The type of the movie or TV show. (String)                  |\n",
    "| release_year         | The year the movie or TV show was released. (Integer)       |\n",
    "| age_certification    | The age certification of the movie or TV show. (String)     |\n",
    "| runtime              | The runtime of the movie or TV show. (Integer)              |\n",
    "| genres               | The genres of the movie or TV show. (String)                |\n",
    "| production_countries | The production countries of the movie or TV show. (String)  |\n",
    "| seasons              | The number of seasons of the TV show. (Integer)             |\n",
    "| imdb_score           | The IMDB score of the movie or TV show. (Float)             |\n",
    "| imdb_votes           | The number of IMDB votes of the movie or TV show. (Integer) |\n",
    "\n",
    "\n",
    "File: Best Shows Netflix.csv\n",
    "\n",
    "|   Column name   |                                Description                               |\n",
    "|:---------------:|:------------------------------------------------------------------------:|\n",
    "| TITLE           | The title of the movie or TV show. (String)                              |\n",
    "| RELEASE_YEAR    | The year the movie or TV show was released. (Integer)                    |\n",
    "| SCORE           | The IMDB score for the movie or TV show. (Float)                         |\n",
    "| NUMBEROFVOTES   | The number of votes the movie or TV show has received on IMDB. (Integer) |\n",
    "| DURATION        | The duration of the movie or TV show in minutes. (Integer)               |\n",
    "| NUMBEROFSEASONS | The number of seasons the TV show has. (Integer)                         |\n",
    "| MAIN_GENRE      | The main genre of the movie or TV show. (String)                         |\n",
    "| MAIN_PRODUCTION | The main production company of the movie or TV show. (String)            |\n",
    "| imdb_score      | The IMDB score of the movie or TV show. (Float)                          |\n",
    "| imdb_votes      | The number of IMDB votes of the movie or TV show. (Integer)              |\n",
    "\n",
    "File: raw_credits.csv\n",
    "\n",
    "| Column name |                                 Description                                 |\n",
    "|:-----------:|:---------------------------------------------------------------------------:|\n",
    "| name        | The name of the actor or actress. (String)                                  |\n",
    "| character   | The character the actor or actress played in the movie or TV show. (String) |\n",
    "| role        | The role the actor or actress played in the movie or TV show. (String)      |\n",
    "\n",
    "File: Best Movies Netflix.csv\n",
    "\n",
    "File: Best Movie by Year Netflix.csv\n",
    "\n",
    "File: Best Show by Year Netflix.csv\n",
    "\n",
    "\n",
    "|   Column name   |                                Description                               |\n",
    "|:---------------:|:------------------------------------------------------------------------:|\n",
    "| TITLE           | The title of the movie or TV show. (String)                              |\n",
    "| RELEASE_YEAR    | The year the movie or TV show was released. (Integer)                    |\n",
    "| SCORE           | The IMDB score for the movie or TV show. (Float)                         |\n",
    "| NUMBEROFVOTES   | The number of votes the movie or TV show has received on IMDB. (Integer) |\n",
    "| DURATION        | The duration of the movie or TV show in minutes. (Integer)               |\n",
    "| MAIN_GENRE      | The main genre of the movie or TV show. (String)                         |\n",
    "| MAIN_PRODUCTION | The main production company of the movie or TV show. (String)            |"
   ]
  },
  {
   "cell_type": "markdown",
   "id": "66692999",
   "metadata": {
    "papermill": {
     "duration": 0.007155,
     "end_time": "2023-01-07T15:39:11.095840",
     "exception": false,
     "start_time": "2023-01-07T15:39:11.088685",
     "status": "completed"
    },
    "tags": []
   },
   "source": [
    "#### 📌 Let's know more about each of them. \n",
    "\n",
    "We can create a **function** to extract all the essential information from each **dataset** so that we don't have to manually go through each one. "
   ]
  },
  {
   "cell_type": "code",
   "execution_count": 3,
   "id": "0ff1138f",
   "metadata": {
    "execution": {
     "iopub.execute_input": "2023-01-07T15:39:11.112291Z",
     "iopub.status.busy": "2023-01-07T15:39:11.111882Z",
     "iopub.status.idle": "2023-01-07T15:39:11.120607Z",
     "shell.execute_reply": "2023-01-07T15:39:11.119853Z"
    },
    "papermill": {
     "duration": 0.01922,
     "end_time": "2023-01-07T15:39:11.122472",
     "exception": false,
     "start_time": "2023-01-07T15:39:11.103252",
     "status": "completed"
    },
    "tags": []
   },
   "outputs": [],
   "source": [
    "def cprint(title, text, color='#e63e50'):\n",
    "    \"\"\"\n",
    "    It takes a title, text, and color as input, and returns a formatted HTML string\n",
    "    \n",
    "    :param title: The title of the section\n",
    "    :param text: the text to be displayed\n",
    "    :param color: The color of the title, defaults to #e63e50 (optional)\n",
    "    :return: the html_print function with the text argument.\n",
    "    \"\"\"\n",
    "    text = \"<br><strong style=color:{}>{}:</strong><br>\".format(color, title) + \\\n",
    "            \"<text>{}</text><br>\".format(text)\n",
    "    return html_print(text)\n",
    "\n",
    "\n",
    "def check_datasets(df_list):\n",
    "    \"\"\"\n",
    "    It takes a list of dataframes as an input and prints out the name of the dataframe, the size of the\n",
    "    dataframe, the total number of null values in the dataframe, the data types of each column, and the\n",
    "    first two rows of the dataframe\n",
    "    \n",
    "    :param df_list: A list of dataframes\n",
    "    \"\"\"\n",
    "    for index, df in enumerate(df_list):\n",
    "        display(cprint(\"\\n{} - Name of the dataset\\n\".format(index+1), str(df[1])))\n",
    "        display(cprint(\"{} - The size of the dataset \\n\".format(index+1) , df[0].shape))\n",
    "        display(cprint(\"{} - Total number of null values \\n\".format(index+1) , df[0].isnull().sum().sum()))\n",
    "        display(cprint(\"{} - Data types of each column \\n\".format(index+1) , \"\"))\n",
    "        display(df[0].dtypes)\n",
    "        print(\"\\n\")\n",
    "        display(df[0].head(2))"
   ]
  },
  {
   "cell_type": "code",
   "execution_count": 4,
   "id": "6063e59b",
   "metadata": {
    "execution": {
     "iopub.execute_input": "2023-01-07T15:39:11.138888Z",
     "iopub.status.busy": "2023-01-07T15:39:11.138301Z",
     "iopub.status.idle": "2023-01-07T15:39:11.288798Z",
     "shell.execute_reply": "2023-01-07T15:39:11.287492Z"
    },
    "papermill": {
     "duration": 0.161504,
     "end_time": "2023-01-07T15:39:11.291215",
     "exception": false,
     "start_time": "2023-01-07T15:39:11.129711",
     "status": "completed"
    },
    "tags": []
   },
   "outputs": [
    {
     "data": {
      "text/html": [
       "<br><strong style=color:#e63e50>\n",
       "1 - Name of the dataset\n",
       ":</strong><br><text>Best Movies By Year</text><br>"
      ],
      "text/plain": [
       "<IPython.core.display.HTML object>"
      ]
     },
     "metadata": {},
     "output_type": "display_data"
    },
    {
     "data": {
      "text/html": [
       "<br><strong style=color:#e63e50>1 - The size of the dataset \n",
       ":</strong><br><text>(49, 6)</text><br>"
      ],
      "text/plain": [
       "<IPython.core.display.HTML object>"
      ]
     },
     "metadata": {},
     "output_type": "display_data"
    },
    {
     "data": {
      "text/html": [
       "<br><strong style=color:#e63e50>1 - Total number of null values \n",
       ":</strong><br><text>0</text><br>"
      ],
      "text/plain": [
       "<IPython.core.display.HTML object>"
      ]
     },
     "metadata": {},
     "output_type": "display_data"
    },
    {
     "data": {
      "text/html": [
       "<br><strong style=color:#e63e50>1 - Data types of each column \n",
       ":</strong><br><text></text><br>"
      ],
      "text/plain": [
       "<IPython.core.display.HTML object>"
      ]
     },
     "metadata": {},
     "output_type": "display_data"
    },
    {
     "data": {
      "text/plain": [
       "index                int64\n",
       "TITLE               object\n",
       "RELEASE_YEAR         int64\n",
       "SCORE              float64\n",
       "MAIN_GENRE          object\n",
       "MAIN_PRODUCTION     object\n",
       "dtype: object"
      ]
     },
     "metadata": {},
     "output_type": "display_data"
    },
    {
     "name": "stdout",
     "output_type": "stream",
     "text": [
      "\n",
      "\n"
     ]
    },
    {
     "data": {
      "text/html": [
       "<div>\n",
       "<style scoped>\n",
       "    .dataframe tbody tr th:only-of-type {\n",
       "        vertical-align: middle;\n",
       "    }\n",
       "\n",
       "    .dataframe tbody tr th {\n",
       "        vertical-align: top;\n",
       "    }\n",
       "\n",
       "    .dataframe thead th {\n",
       "        text-align: right;\n",
       "    }\n",
       "</style>\n",
       "<table border=\"1\" class=\"dataframe\">\n",
       "  <thead>\n",
       "    <tr style=\"text-align: right;\">\n",
       "      <th></th>\n",
       "      <th>index</th>\n",
       "      <th>TITLE</th>\n",
       "      <th>RELEASE_YEAR</th>\n",
       "      <th>SCORE</th>\n",
       "      <th>MAIN_GENRE</th>\n",
       "      <th>MAIN_PRODUCTION</th>\n",
       "    </tr>\n",
       "  </thead>\n",
       "  <tbody>\n",
       "    <tr>\n",
       "      <th>0</th>\n",
       "      <td>0</td>\n",
       "      <td>White Christmas</td>\n",
       "      <td>1954</td>\n",
       "      <td>7.5</td>\n",
       "      <td>romance</td>\n",
       "      <td>US</td>\n",
       "    </tr>\n",
       "    <tr>\n",
       "      <th>1</th>\n",
       "      <td>1</td>\n",
       "      <td>The Guns of Navarone</td>\n",
       "      <td>1961</td>\n",
       "      <td>7.5</td>\n",
       "      <td>war</td>\n",
       "      <td>US</td>\n",
       "    </tr>\n",
       "  </tbody>\n",
       "</table>\n",
       "</div>"
      ],
      "text/plain": [
       "   index                 TITLE  RELEASE_YEAR  SCORE MAIN_GENRE MAIN_PRODUCTION\n",
       "0      0       White Christmas          1954    7.5    romance              US\n",
       "1      1  The Guns of Navarone          1961    7.5        war              US"
      ]
     },
     "metadata": {},
     "output_type": "display_data"
    },
    {
     "data": {
      "text/html": [
       "<br><strong style=color:#e63e50>\n",
       "2 - Name of the dataset\n",
       ":</strong><br><text>Best Movies</text><br>"
      ],
      "text/plain": [
       "<IPython.core.display.HTML object>"
      ]
     },
     "metadata": {},
     "output_type": "display_data"
    },
    {
     "data": {
      "text/html": [
       "<br><strong style=color:#e63e50>2 - The size of the dataset \n",
       ":</strong><br><text>(387, 8)</text><br>"
      ],
      "text/plain": [
       "<IPython.core.display.HTML object>"
      ]
     },
     "metadata": {},
     "output_type": "display_data"
    },
    {
     "data": {
      "text/html": [
       "<br><strong style=color:#e63e50>2 - Total number of null values \n",
       ":</strong><br><text>0</text><br>"
      ],
      "text/plain": [
       "<IPython.core.display.HTML object>"
      ]
     },
     "metadata": {},
     "output_type": "display_data"
    },
    {
     "data": {
      "text/html": [
       "<br><strong style=color:#e63e50>2 - Data types of each column \n",
       ":</strong><br><text></text><br>"
      ],
      "text/plain": [
       "<IPython.core.display.HTML object>"
      ]
     },
     "metadata": {},
     "output_type": "display_data"
    },
    {
     "data": {
      "text/plain": [
       "index                int64\n",
       "TITLE               object\n",
       "RELEASE_YEAR         int64\n",
       "SCORE              float64\n",
       "NUMBER_OF_VOTES      int64\n",
       "DURATION             int64\n",
       "MAIN_GENRE          object\n",
       "MAIN_PRODUCTION     object\n",
       "dtype: object"
      ]
     },
     "metadata": {},
     "output_type": "display_data"
    },
    {
     "name": "stdout",
     "output_type": "stream",
     "text": [
      "\n",
      "\n"
     ]
    },
    {
     "data": {
      "text/html": [
       "<div>\n",
       "<style scoped>\n",
       "    .dataframe tbody tr th:only-of-type {\n",
       "        vertical-align: middle;\n",
       "    }\n",
       "\n",
       "    .dataframe tbody tr th {\n",
       "        vertical-align: top;\n",
       "    }\n",
       "\n",
       "    .dataframe thead th {\n",
       "        text-align: right;\n",
       "    }\n",
       "</style>\n",
       "<table border=\"1\" class=\"dataframe\">\n",
       "  <thead>\n",
       "    <tr style=\"text-align: right;\">\n",
       "      <th></th>\n",
       "      <th>index</th>\n",
       "      <th>TITLE</th>\n",
       "      <th>RELEASE_YEAR</th>\n",
       "      <th>SCORE</th>\n",
       "      <th>NUMBER_OF_VOTES</th>\n",
       "      <th>DURATION</th>\n",
       "      <th>MAIN_GENRE</th>\n",
       "      <th>MAIN_PRODUCTION</th>\n",
       "    </tr>\n",
       "  </thead>\n",
       "  <tbody>\n",
       "    <tr>\n",
       "      <th>0</th>\n",
       "      <td>0</td>\n",
       "      <td>David Attenborough: A Life on Our Planet</td>\n",
       "      <td>2020</td>\n",
       "      <td>9.0</td>\n",
       "      <td>31180</td>\n",
       "      <td>83</td>\n",
       "      <td>documentary</td>\n",
       "      <td>GB</td>\n",
       "    </tr>\n",
       "    <tr>\n",
       "      <th>1</th>\n",
       "      <td>1</td>\n",
       "      <td>Inception</td>\n",
       "      <td>2010</td>\n",
       "      <td>8.8</td>\n",
       "      <td>2268288</td>\n",
       "      <td>148</td>\n",
       "      <td>scifi</td>\n",
       "      <td>GB</td>\n",
       "    </tr>\n",
       "  </tbody>\n",
       "</table>\n",
       "</div>"
      ],
      "text/plain": [
       "   index                                     TITLE  RELEASE_YEAR  SCORE  \\\n",
       "0      0  David Attenborough: A Life on Our Planet          2020    9.0   \n",
       "1      1                                 Inception          2010    8.8   \n",
       "\n",
       "   NUMBER_OF_VOTES  DURATION   MAIN_GENRE MAIN_PRODUCTION  \n",
       "0            31180        83  documentary              GB  \n",
       "1          2268288       148        scifi              GB  "
      ]
     },
     "metadata": {},
     "output_type": "display_data"
    },
    {
     "data": {
      "text/html": [
       "<br><strong style=color:#e63e50>\n",
       "3 - Name of the dataset\n",
       ":</strong><br><text>Best Shows by Year</text><br>"
      ],
      "text/plain": [
       "<IPython.core.display.HTML object>"
      ]
     },
     "metadata": {},
     "output_type": "display_data"
    },
    {
     "data": {
      "text/html": [
       "<br><strong style=color:#e63e50>3 - The size of the dataset \n",
       ":</strong><br><text>(31, 7)</text><br>"
      ],
      "text/plain": [
       "<IPython.core.display.HTML object>"
      ]
     },
     "metadata": {},
     "output_type": "display_data"
    },
    {
     "data": {
      "text/html": [
       "<br><strong style=color:#e63e50>3 - Total number of null values \n",
       ":</strong><br><text>0</text><br>"
      ],
      "text/plain": [
       "<IPython.core.display.HTML object>"
      ]
     },
     "metadata": {},
     "output_type": "display_data"
    },
    {
     "data": {
      "text/html": [
       "<br><strong style=color:#e63e50>3 - Data types of each column \n",
       ":</strong><br><text></text><br>"
      ],
      "text/plain": [
       "<IPython.core.display.HTML object>"
      ]
     },
     "metadata": {},
     "output_type": "display_data"
    },
    {
     "data": {
      "text/plain": [
       "index                  int64\n",
       "TITLE                 object\n",
       "RELEASE_YEAR           int64\n",
       "SCORE                float64\n",
       "NUMBER_OF_SEASONS      int64\n",
       "MAIN_GENRE            object\n",
       "MAIN_PRODUCTION       object\n",
       "dtype: object"
      ]
     },
     "metadata": {},
     "output_type": "display_data"
    },
    {
     "name": "stdout",
     "output_type": "stream",
     "text": [
      "\n",
      "\n"
     ]
    },
    {
     "data": {
      "text/html": [
       "<div>\n",
       "<style scoped>\n",
       "    .dataframe tbody tr th:only-of-type {\n",
       "        vertical-align: middle;\n",
       "    }\n",
       "\n",
       "    .dataframe tbody tr th {\n",
       "        vertical-align: top;\n",
       "    }\n",
       "\n",
       "    .dataframe thead th {\n",
       "        text-align: right;\n",
       "    }\n",
       "</style>\n",
       "<table border=\"1\" class=\"dataframe\">\n",
       "  <thead>\n",
       "    <tr style=\"text-align: right;\">\n",
       "      <th></th>\n",
       "      <th>index</th>\n",
       "      <th>TITLE</th>\n",
       "      <th>RELEASE_YEAR</th>\n",
       "      <th>SCORE</th>\n",
       "      <th>NUMBER_OF_SEASONS</th>\n",
       "      <th>MAIN_GENRE</th>\n",
       "      <th>MAIN_PRODUCTION</th>\n",
       "    </tr>\n",
       "  </thead>\n",
       "  <tbody>\n",
       "    <tr>\n",
       "      <th>0</th>\n",
       "      <td>0</td>\n",
       "      <td>Monty Python's Flying Circus</td>\n",
       "      <td>1969</td>\n",
       "      <td>8.8</td>\n",
       "      <td>4</td>\n",
       "      <td>comedy</td>\n",
       "      <td>GB</td>\n",
       "    </tr>\n",
       "    <tr>\n",
       "      <th>1</th>\n",
       "      <td>1</td>\n",
       "      <td>Knight Rider</td>\n",
       "      <td>1982</td>\n",
       "      <td>6.9</td>\n",
       "      <td>4</td>\n",
       "      <td>action</td>\n",
       "      <td>US</td>\n",
       "    </tr>\n",
       "  </tbody>\n",
       "</table>\n",
       "</div>"
      ],
      "text/plain": [
       "   index                         TITLE  RELEASE_YEAR  SCORE  \\\n",
       "0      0  Monty Python's Flying Circus          1969    8.8   \n",
       "1      1                  Knight Rider          1982    6.9   \n",
       "\n",
       "   NUMBER_OF_SEASONS MAIN_GENRE MAIN_PRODUCTION  \n",
       "0                  4     comedy              GB  \n",
       "1                  4     action              US  "
      ]
     },
     "metadata": {},
     "output_type": "display_data"
    },
    {
     "data": {
      "text/html": [
       "<br><strong style=color:#e63e50>\n",
       "4 - Name of the dataset\n",
       ":</strong><br><text>Best Shows</text><br>"
      ],
      "text/plain": [
       "<IPython.core.display.HTML object>"
      ]
     },
     "metadata": {},
     "output_type": "display_data"
    },
    {
     "data": {
      "text/html": [
       "<br><strong style=color:#e63e50>4 - The size of the dataset \n",
       ":</strong><br><text>(246, 9)</text><br>"
      ],
      "text/plain": [
       "<IPython.core.display.HTML object>"
      ]
     },
     "metadata": {},
     "output_type": "display_data"
    },
    {
     "data": {
      "text/html": [
       "<br><strong style=color:#e63e50>4 - Total number of null values \n",
       ":</strong><br><text>0</text><br>"
      ],
      "text/plain": [
       "<IPython.core.display.HTML object>"
      ]
     },
     "metadata": {},
     "output_type": "display_data"
    },
    {
     "data": {
      "text/html": [
       "<br><strong style=color:#e63e50>4 - Data types of each column \n",
       ":</strong><br><text></text><br>"
      ],
      "text/plain": [
       "<IPython.core.display.HTML object>"
      ]
     },
     "metadata": {},
     "output_type": "display_data"
    },
    {
     "data": {
      "text/plain": [
       "index                  int64\n",
       "TITLE                 object\n",
       "RELEASE_YEAR           int64\n",
       "SCORE                float64\n",
       "NUMBER_OF_VOTES        int64\n",
       "DURATION               int64\n",
       "NUMBER_OF_SEASONS      int64\n",
       "MAIN_GENRE            object\n",
       "MAIN_PRODUCTION       object\n",
       "dtype: object"
      ]
     },
     "metadata": {},
     "output_type": "display_data"
    },
    {
     "name": "stdout",
     "output_type": "stream",
     "text": [
      "\n",
      "\n"
     ]
    },
    {
     "data": {
      "text/html": [
       "<div>\n",
       "<style scoped>\n",
       "    .dataframe tbody tr th:only-of-type {\n",
       "        vertical-align: middle;\n",
       "    }\n",
       "\n",
       "    .dataframe tbody tr th {\n",
       "        vertical-align: top;\n",
       "    }\n",
       "\n",
       "    .dataframe thead th {\n",
       "        text-align: right;\n",
       "    }\n",
       "</style>\n",
       "<table border=\"1\" class=\"dataframe\">\n",
       "  <thead>\n",
       "    <tr style=\"text-align: right;\">\n",
       "      <th></th>\n",
       "      <th>index</th>\n",
       "      <th>TITLE</th>\n",
       "      <th>RELEASE_YEAR</th>\n",
       "      <th>SCORE</th>\n",
       "      <th>NUMBER_OF_VOTES</th>\n",
       "      <th>DURATION</th>\n",
       "      <th>NUMBER_OF_SEASONS</th>\n",
       "      <th>MAIN_GENRE</th>\n",
       "      <th>MAIN_PRODUCTION</th>\n",
       "    </tr>\n",
       "  </thead>\n",
       "  <tbody>\n",
       "    <tr>\n",
       "      <th>0</th>\n",
       "      <td>0</td>\n",
       "      <td>Breaking Bad</td>\n",
       "      <td>2008</td>\n",
       "      <td>9.5</td>\n",
       "      <td>1727694</td>\n",
       "      <td>48</td>\n",
       "      <td>5</td>\n",
       "      <td>drama</td>\n",
       "      <td>US</td>\n",
       "    </tr>\n",
       "    <tr>\n",
       "      <th>1</th>\n",
       "      <td>1</td>\n",
       "      <td>Avatar: The Last Airbender</td>\n",
       "      <td>2005</td>\n",
       "      <td>9.3</td>\n",
       "      <td>297336</td>\n",
       "      <td>24</td>\n",
       "      <td>3</td>\n",
       "      <td>scifi</td>\n",
       "      <td>US</td>\n",
       "    </tr>\n",
       "  </tbody>\n",
       "</table>\n",
       "</div>"
      ],
      "text/plain": [
       "   index                       TITLE  RELEASE_YEAR  SCORE  NUMBER_OF_VOTES  \\\n",
       "0      0                Breaking Bad          2008    9.5          1727694   \n",
       "1      1  Avatar: The Last Airbender          2005    9.3           297336   \n",
       "\n",
       "   DURATION  NUMBER_OF_SEASONS MAIN_GENRE MAIN_PRODUCTION  \n",
       "0        48                  5      drama              US  \n",
       "1        24                  3      scifi              US  "
      ]
     },
     "metadata": {},
     "output_type": "display_data"
    },
    {
     "data": {
      "text/html": [
       "<br><strong style=color:#e63e50>\n",
       "5 - Name of the dataset\n",
       ":</strong><br><text>Credits</text><br>"
      ],
      "text/plain": [
       "<IPython.core.display.HTML object>"
      ]
     },
     "metadata": {},
     "output_type": "display_data"
    },
    {
     "data": {
      "text/html": [
       "<br><strong style=color:#e63e50>5 - The size of the dataset \n",
       ":</strong><br><text>(77213, 6)</text><br>"
      ],
      "text/plain": [
       "<IPython.core.display.HTML object>"
      ]
     },
     "metadata": {},
     "output_type": "display_data"
    },
    {
     "data": {
      "text/html": [
       "<br><strong style=color:#e63e50>5 - Total number of null values \n",
       ":</strong><br><text>9627</text><br>"
      ],
      "text/plain": [
       "<IPython.core.display.HTML object>"
      ]
     },
     "metadata": {},
     "output_type": "display_data"
    },
    {
     "data": {
      "text/html": [
       "<br><strong style=color:#e63e50>5 - Data types of each column \n",
       ":</strong><br><text></text><br>"
      ],
      "text/plain": [
       "<IPython.core.display.HTML object>"
      ]
     },
     "metadata": {},
     "output_type": "display_data"
    },
    {
     "data": {
      "text/plain": [
       "index         int64\n",
       "person_id     int64\n",
       "id           object\n",
       "name         object\n",
       "character    object\n",
       "role         object\n",
       "dtype: object"
      ]
     },
     "metadata": {},
     "output_type": "display_data"
    },
    {
     "name": "stdout",
     "output_type": "stream",
     "text": [
      "\n",
      "\n"
     ]
    },
    {
     "data": {
      "text/html": [
       "<div>\n",
       "<style scoped>\n",
       "    .dataframe tbody tr th:only-of-type {\n",
       "        vertical-align: middle;\n",
       "    }\n",
       "\n",
       "    .dataframe tbody tr th {\n",
       "        vertical-align: top;\n",
       "    }\n",
       "\n",
       "    .dataframe thead th {\n",
       "        text-align: right;\n",
       "    }\n",
       "</style>\n",
       "<table border=\"1\" class=\"dataframe\">\n",
       "  <thead>\n",
       "    <tr style=\"text-align: right;\">\n",
       "      <th></th>\n",
       "      <th>index</th>\n",
       "      <th>person_id</th>\n",
       "      <th>id</th>\n",
       "      <th>name</th>\n",
       "      <th>character</th>\n",
       "      <th>role</th>\n",
       "    </tr>\n",
       "  </thead>\n",
       "  <tbody>\n",
       "    <tr>\n",
       "      <th>0</th>\n",
       "      <td>0</td>\n",
       "      <td>3748</td>\n",
       "      <td>tm84618</td>\n",
       "      <td>Robert De Niro</td>\n",
       "      <td>Travis Bickle</td>\n",
       "      <td>ACTOR</td>\n",
       "    </tr>\n",
       "    <tr>\n",
       "      <th>1</th>\n",
       "      <td>1</td>\n",
       "      <td>14658</td>\n",
       "      <td>tm84618</td>\n",
       "      <td>Jodie Foster</td>\n",
       "      <td>Iris Steensma</td>\n",
       "      <td>ACTOR</td>\n",
       "    </tr>\n",
       "  </tbody>\n",
       "</table>\n",
       "</div>"
      ],
      "text/plain": [
       "   index  person_id       id            name      character   role\n",
       "0      0       3748  tm84618  Robert De Niro  Travis Bickle  ACTOR\n",
       "1      1      14658  tm84618    Jodie Foster  Iris Steensma  ACTOR"
      ]
     },
     "metadata": {},
     "output_type": "display_data"
    },
    {
     "data": {
      "text/html": [
       "<br><strong style=color:#e63e50>\n",
       "6 - Name of the dataset\n",
       ":</strong><br><text>Titles</text><br>"
      ],
      "text/plain": [
       "<IPython.core.display.HTML object>"
      ]
     },
     "metadata": {},
     "output_type": "display_data"
    },
    {
     "data": {
      "text/html": [
       "<br><strong style=color:#e63e50>6 - The size of the dataset \n",
       ":</strong><br><text>(5806, 13)</text><br>"
      ],
      "text/plain": [
       "<IPython.core.display.HTML object>"
      ]
     },
     "metadata": {},
     "output_type": "display_data"
    },
    {
     "data": {
      "text/html": [
       "<br><strong style=color:#e63e50>6 - Total number of null values \n",
       ":</strong><br><text>7876</text><br>"
      ],
      "text/plain": [
       "<IPython.core.display.HTML object>"
      ]
     },
     "metadata": {},
     "output_type": "display_data"
    },
    {
     "data": {
      "text/html": [
       "<br><strong style=color:#e63e50>6 - Data types of each column \n",
       ":</strong><br><text></text><br>"
      ],
      "text/plain": [
       "<IPython.core.display.HTML object>"
      ]
     },
     "metadata": {},
     "output_type": "display_data"
    },
    {
     "data": {
      "text/plain": [
       "index                     int64\n",
       "id                       object\n",
       "title                    object\n",
       "type                     object\n",
       "release_year              int64\n",
       "age_certification        object\n",
       "runtime                   int64\n",
       "genres                   object\n",
       "production_countries     object\n",
       "seasons                 float64\n",
       "imdb_id                  object\n",
       "imdb_score              float64\n",
       "imdb_votes              float64\n",
       "dtype: object"
      ]
     },
     "metadata": {},
     "output_type": "display_data"
    },
    {
     "name": "stdout",
     "output_type": "stream",
     "text": [
      "\n",
      "\n"
     ]
    },
    {
     "data": {
      "text/html": [
       "<div>\n",
       "<style scoped>\n",
       "    .dataframe tbody tr th:only-of-type {\n",
       "        vertical-align: middle;\n",
       "    }\n",
       "\n",
       "    .dataframe tbody tr th {\n",
       "        vertical-align: top;\n",
       "    }\n",
       "\n",
       "    .dataframe thead th {\n",
       "        text-align: right;\n",
       "    }\n",
       "</style>\n",
       "<table border=\"1\" class=\"dataframe\">\n",
       "  <thead>\n",
       "    <tr style=\"text-align: right;\">\n",
       "      <th></th>\n",
       "      <th>index</th>\n",
       "      <th>id</th>\n",
       "      <th>title</th>\n",
       "      <th>type</th>\n",
       "      <th>release_year</th>\n",
       "      <th>age_certification</th>\n",
       "      <th>runtime</th>\n",
       "      <th>genres</th>\n",
       "      <th>production_countries</th>\n",
       "      <th>seasons</th>\n",
       "      <th>imdb_id</th>\n",
       "      <th>imdb_score</th>\n",
       "      <th>imdb_votes</th>\n",
       "    </tr>\n",
       "  </thead>\n",
       "  <tbody>\n",
       "    <tr>\n",
       "      <th>0</th>\n",
       "      <td>0</td>\n",
       "      <td>ts300399</td>\n",
       "      <td>Five Came Back: The Reference Films</td>\n",
       "      <td>SHOW</td>\n",
       "      <td>1945</td>\n",
       "      <td>TV-MA</td>\n",
       "      <td>48</td>\n",
       "      <td>['documentation']</td>\n",
       "      <td>['US']</td>\n",
       "      <td>1.0</td>\n",
       "      <td>NaN</td>\n",
       "      <td>NaN</td>\n",
       "      <td>NaN</td>\n",
       "    </tr>\n",
       "    <tr>\n",
       "      <th>1</th>\n",
       "      <td>1</td>\n",
       "      <td>tm84618</td>\n",
       "      <td>Taxi Driver</td>\n",
       "      <td>MOVIE</td>\n",
       "      <td>1976</td>\n",
       "      <td>R</td>\n",
       "      <td>113</td>\n",
       "      <td>['crime', 'drama']</td>\n",
       "      <td>['US']</td>\n",
       "      <td>NaN</td>\n",
       "      <td>tt0075314</td>\n",
       "      <td>8.3</td>\n",
       "      <td>795222.0</td>\n",
       "    </tr>\n",
       "  </tbody>\n",
       "</table>\n",
       "</div>"
      ],
      "text/plain": [
       "   index        id                                title   type  release_year  \\\n",
       "0      0  ts300399  Five Came Back: The Reference Films   SHOW          1945   \n",
       "1      1   tm84618                          Taxi Driver  MOVIE          1976   \n",
       "\n",
       "  age_certification  runtime              genres production_countries  \\\n",
       "0             TV-MA       48   ['documentation']               ['US']   \n",
       "1                 R      113  ['crime', 'drama']               ['US']   \n",
       "\n",
       "   seasons    imdb_id  imdb_score  imdb_votes  \n",
       "0      1.0        NaN         NaN         NaN  \n",
       "1      NaN  tt0075314         8.3    795222.0  "
      ]
     },
     "metadata": {},
     "output_type": "display_data"
    }
   ],
   "source": [
    "dfs = [\n",
    "          [best_movies_year, \"Best Movies By Year\"], \n",
    "          [best_movies, \"Best Movies\"],\n",
    "          [best_shows_year, \"Best Shows by Year\"],\n",
    "          [best_shows, \"Best Shows\"],\n",
    "          [raw_credits, \"Credits\"],\n",
    "          [raw_titles, \"Titles\"]\n",
    "      ]\n",
    "\n",
    "check_datasets(dfs)"
   ]
  },
  {
   "cell_type": "markdown",
   "id": "dcd2689e",
   "metadata": {
    "papermill": {
     "duration": 0.011946,
     "end_time": "2023-01-07T15:39:11.315559",
     "exception": false,
     "start_time": "2023-01-07T15:39:11.303613",
     "status": "completed"
    },
    "tags": []
   },
   "source": [
    "- Only the dataframes for \"Titles\" and \"Credits\" have missing values. \n",
    "\n",
    "- Each dataframe includes an additional \"index\" column.\n",
    "\n",
    "Sincerily, I anticipated more missing values, but hopefully not as many 😺.\n",
    "\n",
    "Let's study some statistical details before addressing the missing values of the two datasets. "
   ]
  },
  {
   "cell_type": "markdown",
   "id": "ef575438",
   "metadata": {
    "papermill": {
     "duration": 0.011842,
     "end_time": "2023-01-07T15:39:11.339331",
     "exception": false,
     "start_time": "2023-01-07T15:39:11.327489",
     "status": "completed"
    },
    "tags": []
   },
   "source": [
    "### 3 - Let's check at some dataset statistics ☟"
   ]
  },
  {
   "cell_type": "markdown",
   "id": "98ac580f",
   "metadata": {
    "papermill": {
     "duration": 0.01157,
     "end_time": "2023-01-07T15:39:11.362804",
     "exception": false,
     "start_time": "2023-01-07T15:39:11.351234",
     "status": "completed"
    },
    "tags": []
   },
   "source": [
    "Starting with the datasets that include missing values. But let's first remove the superfluous \"index\" "
   ]
  },
  {
   "cell_type": "code",
   "execution_count": 5,
   "id": "7210d56b",
   "metadata": {
    "execution": {
     "iopub.execute_input": "2023-01-07T15:39:11.388571Z",
     "iopub.status.busy": "2023-01-07T15:39:11.387764Z",
     "iopub.status.idle": "2023-01-07T15:39:11.407325Z",
     "shell.execute_reply": "2023-01-07T15:39:11.406453Z"
    },
    "papermill": {
     "duration": 0.034768,
     "end_time": "2023-01-07T15:39:11.409452",
     "exception": false,
     "start_time": "2023-01-07T15:39:11.374684",
     "status": "completed"
    },
    "tags": []
   },
   "outputs": [],
   "source": [
    "# Delete \"index\" column from the datasets\n",
    "for df in dfs:\n",
    "    df[0].drop('index', axis=1, inplace=True)"
   ]
  },
  {
   "cell_type": "code",
   "execution_count": 6,
   "id": "33ebee8c",
   "metadata": {
    "execution": {
     "iopub.execute_input": "2023-01-07T15:39:11.435609Z",
     "iopub.status.busy": "2023-01-07T15:39:11.434832Z",
     "iopub.status.idle": "2023-01-07T15:39:11.490007Z",
     "shell.execute_reply": "2023-01-07T15:39:11.488837Z"
    },
    "papermill": {
     "duration": 0.070826,
     "end_time": "2023-01-07T15:39:11.492341",
     "exception": false,
     "start_time": "2023-01-07T15:39:11.421515",
     "status": "completed"
    },
    "tags": []
   },
   "outputs": [
    {
     "data": {
      "text/html": [
       "<div>\n",
       "<style scoped>\n",
       "    .dataframe tbody tr th:only-of-type {\n",
       "        vertical-align: middle;\n",
       "    }\n",
       "\n",
       "    .dataframe tbody tr th {\n",
       "        vertical-align: top;\n",
       "    }\n",
       "\n",
       "    .dataframe thead th {\n",
       "        text-align: right;\n",
       "    }\n",
       "</style>\n",
       "<table border=\"1\" class=\"dataframe\">\n",
       "  <thead>\n",
       "    <tr style=\"text-align: right;\">\n",
       "      <th></th>\n",
       "      <th>count</th>\n",
       "      <th>mean</th>\n",
       "      <th>std</th>\n",
       "      <th>min</th>\n",
       "      <th>25%</th>\n",
       "      <th>50%</th>\n",
       "      <th>75%</th>\n",
       "      <th>max</th>\n",
       "    </tr>\n",
       "  </thead>\n",
       "  <tbody>\n",
       "    <tr>\n",
       "      <th>person_id</th>\n",
       "      <td>77213.0</td>\n",
       "      <td>499460.322666</td>\n",
       "      <td>612843.136282</td>\n",
       "      <td>7.0</td>\n",
       "      <td>41584.0</td>\n",
       "      <td>182985.0</td>\n",
       "      <td>841557.0</td>\n",
       "      <td>2371585.0</td>\n",
       "    </tr>\n",
       "  </tbody>\n",
       "</table>\n",
       "</div>"
      ],
      "text/plain": [
       "             count           mean            std  min      25%       50%  \\\n",
       "person_id  77213.0  499460.322666  612843.136282  7.0  41584.0  182985.0   \n",
       "\n",
       "                75%        max  \n",
       "person_id  841557.0  2371585.0  "
      ]
     },
     "metadata": {},
     "output_type": "display_data"
    },
    {
     "data": {
      "text/html": [
       "<div>\n",
       "<style scoped>\n",
       "    .dataframe tbody tr th:only-of-type {\n",
       "        vertical-align: middle;\n",
       "    }\n",
       "\n",
       "    .dataframe tbody tr th {\n",
       "        vertical-align: top;\n",
       "    }\n",
       "\n",
       "    .dataframe thead th {\n",
       "        text-align: right;\n",
       "    }\n",
       "</style>\n",
       "<table border=\"1\" class=\"dataframe\">\n",
       "  <thead>\n",
       "    <tr style=\"text-align: right;\">\n",
       "      <th></th>\n",
       "      <th>count</th>\n",
       "      <th>mean</th>\n",
       "      <th>std</th>\n",
       "      <th>min</th>\n",
       "      <th>25%</th>\n",
       "      <th>50%</th>\n",
       "      <th>75%</th>\n",
       "      <th>max</th>\n",
       "    </tr>\n",
       "  </thead>\n",
       "  <tbody>\n",
       "    <tr>\n",
       "      <th>release_year</th>\n",
       "      <td>5806.0</td>\n",
       "      <td>2016.013434</td>\n",
       "      <td>7.324883</td>\n",
       "      <td>1945.0</td>\n",
       "      <td>2015.0</td>\n",
       "      <td>2018.0</td>\n",
       "      <td>2020.0</td>\n",
       "      <td>2022.0</td>\n",
       "    </tr>\n",
       "    <tr>\n",
       "      <th>runtime</th>\n",
       "      <td>5806.0</td>\n",
       "      <td>77.643989</td>\n",
       "      <td>39.474160</td>\n",
       "      <td>0.0</td>\n",
       "      <td>44.0</td>\n",
       "      <td>84.0</td>\n",
       "      <td>105.0</td>\n",
       "      <td>251.0</td>\n",
       "    </tr>\n",
       "    <tr>\n",
       "      <th>seasons</th>\n",
       "      <td>2047.0</td>\n",
       "      <td>2.165608</td>\n",
       "      <td>2.636207</td>\n",
       "      <td>1.0</td>\n",
       "      <td>1.0</td>\n",
       "      <td>1.0</td>\n",
       "      <td>2.0</td>\n",
       "      <td>42.0</td>\n",
       "    </tr>\n",
       "    <tr>\n",
       "      <th>imdb_score</th>\n",
       "      <td>5283.0</td>\n",
       "      <td>6.533447</td>\n",
       "      <td>1.160932</td>\n",
       "      <td>1.5</td>\n",
       "      <td>5.8</td>\n",
       "      <td>6.6</td>\n",
       "      <td>7.4</td>\n",
       "      <td>9.6</td>\n",
       "    </tr>\n",
       "    <tr>\n",
       "      <th>imdb_votes</th>\n",
       "      <td>5267.0</td>\n",
       "      <td>23407.194988</td>\n",
       "      <td>87134.315849</td>\n",
       "      <td>5.0</td>\n",
       "      <td>521.0</td>\n",
       "      <td>2279.0</td>\n",
       "      <td>10144.0</td>\n",
       "      <td>2268288.0</td>\n",
       "    </tr>\n",
       "  </tbody>\n",
       "</table>\n",
       "</div>"
      ],
      "text/plain": [
       "               count          mean           std     min     25%     50%  \\\n",
       "release_year  5806.0   2016.013434      7.324883  1945.0  2015.0  2018.0   \n",
       "runtime       5806.0     77.643989     39.474160     0.0    44.0    84.0   \n",
       "seasons       2047.0      2.165608      2.636207     1.0     1.0     1.0   \n",
       "imdb_score    5283.0      6.533447      1.160932     1.5     5.8     6.6   \n",
       "imdb_votes    5267.0  23407.194988  87134.315849     5.0   521.0  2279.0   \n",
       "\n",
       "                  75%        max  \n",
       "release_year   2020.0     2022.0  \n",
       "runtime         105.0      251.0  \n",
       "seasons           2.0       42.0  \n",
       "imdb_score        7.4        9.6  \n",
       "imdb_votes    10144.0  2268288.0  "
      ]
     },
     "metadata": {},
     "output_type": "display_data"
    }
   ],
   "source": [
    "display(raw_credits.describe().T)\n",
    "display(raw_titles.describe().T)"
   ]
  },
  {
   "cell_type": "markdown",
   "id": "e2d8688e",
   "metadata": {
    "papermill": {
     "duration": 0.012144,
     "end_time": "2023-01-07T15:39:11.517058",
     "exception": false,
     "start_time": "2023-01-07T15:39:11.504914",
     "status": "completed"
    },
    "tags": []
   },
   "source": [
    "- As indicated by the \"runtime\" column in the dataframe for \"raw titles\", Max value = 251 , Mean=77, Median =84 Here, the Max value is significantly greater than both Mean and the Median value. Hence, we can sense the presence of Outliers.\n",
    "\n",
    "Let's check if we have any interpretations that can be made by **categorical** columns"
   ]
  },
  {
   "cell_type": "code",
   "execution_count": 7,
   "id": "68f43415",
   "metadata": {
    "execution": {
     "iopub.execute_input": "2023-01-07T15:39:11.543716Z",
     "iopub.status.busy": "2023-01-07T15:39:11.542905Z",
     "iopub.status.idle": "2023-01-07T15:39:11.669837Z",
     "shell.execute_reply": "2023-01-07T15:39:11.668979Z"
    },
    "papermill": {
     "duration": 0.142828,
     "end_time": "2023-01-07T15:39:11.672276",
     "exception": false,
     "start_time": "2023-01-07T15:39:11.529448",
     "status": "completed"
    },
    "tags": []
   },
   "outputs": [
    {
     "data": {
      "text/html": [
       "<div>\n",
       "<style scoped>\n",
       "    .dataframe tbody tr th:only-of-type {\n",
       "        vertical-align: middle;\n",
       "    }\n",
       "\n",
       "    .dataframe tbody tr th {\n",
       "        vertical-align: top;\n",
       "    }\n",
       "\n",
       "    .dataframe thead th {\n",
       "        text-align: right;\n",
       "    }\n",
       "</style>\n",
       "<table border=\"1\" class=\"dataframe\">\n",
       "  <thead>\n",
       "    <tr style=\"text-align: right;\">\n",
       "      <th></th>\n",
       "      <th>count</th>\n",
       "      <th>unique</th>\n",
       "      <th>top</th>\n",
       "      <th>freq</th>\n",
       "    </tr>\n",
       "  </thead>\n",
       "  <tbody>\n",
       "    <tr>\n",
       "      <th>id</th>\n",
       "      <td>5806</td>\n",
       "      <td>5806</td>\n",
       "      <td>ts300399</td>\n",
       "      <td>1</td>\n",
       "    </tr>\n",
       "    <tr>\n",
       "      <th>title</th>\n",
       "      <td>5805</td>\n",
       "      <td>5751</td>\n",
       "      <td>The Gift</td>\n",
       "      <td>3</td>\n",
       "    </tr>\n",
       "    <tr>\n",
       "      <th>type</th>\n",
       "      <td>5806</td>\n",
       "      <td>2</td>\n",
       "      <td>MOVIE</td>\n",
       "      <td>3759</td>\n",
       "    </tr>\n",
       "    <tr>\n",
       "      <th>age_certification</th>\n",
       "      <td>3196</td>\n",
       "      <td>11</td>\n",
       "      <td>TV-MA</td>\n",
       "      <td>841</td>\n",
       "    </tr>\n",
       "    <tr>\n",
       "      <th>genres</th>\n",
       "      <td>5806</td>\n",
       "      <td>1626</td>\n",
       "      <td>['comedy']</td>\n",
       "      <td>510</td>\n",
       "    </tr>\n",
       "    <tr>\n",
       "      <th>production_countries</th>\n",
       "      <td>5806</td>\n",
       "      <td>449</td>\n",
       "      <td>['US']</td>\n",
       "      <td>1950</td>\n",
       "    </tr>\n",
       "    <tr>\n",
       "      <th>imdb_id</th>\n",
       "      <td>5362</td>\n",
       "      <td>5362</td>\n",
       "      <td>tt0075314</td>\n",
       "      <td>1</td>\n",
       "    </tr>\n",
       "  </tbody>\n",
       "</table>\n",
       "</div>"
      ],
      "text/plain": [
       "                     count unique         top  freq\n",
       "id                    5806   5806    ts300399     1\n",
       "title                 5805   5751    The Gift     3\n",
       "type                  5806      2       MOVIE  3759\n",
       "age_certification     3196     11       TV-MA   841\n",
       "genres                5806   1626  ['comedy']   510\n",
       "production_countries  5806    449      ['US']  1950\n",
       "imdb_id               5362   5362   tt0075314     1"
      ]
     },
     "metadata": {},
     "output_type": "display_data"
    },
    {
     "data": {
      "text/html": [
       "<div>\n",
       "<style scoped>\n",
       "    .dataframe tbody tr th:only-of-type {\n",
       "        vertical-align: middle;\n",
       "    }\n",
       "\n",
       "    .dataframe tbody tr th {\n",
       "        vertical-align: top;\n",
       "    }\n",
       "\n",
       "    .dataframe thead th {\n",
       "        text-align: right;\n",
       "    }\n",
       "</style>\n",
       "<table border=\"1\" class=\"dataframe\">\n",
       "  <thead>\n",
       "    <tr style=\"text-align: right;\">\n",
       "      <th></th>\n",
       "      <th>count</th>\n",
       "      <th>unique</th>\n",
       "      <th>top</th>\n",
       "      <th>freq</th>\n",
       "    </tr>\n",
       "  </thead>\n",
       "  <tbody>\n",
       "    <tr>\n",
       "      <th>id</th>\n",
       "      <td>77213</td>\n",
       "      <td>5434</td>\n",
       "      <td>tm32982</td>\n",
       "      <td>208</td>\n",
       "    </tr>\n",
       "    <tr>\n",
       "      <th>name</th>\n",
       "      <td>77213</td>\n",
       "      <td>53687</td>\n",
       "      <td>Shah Rukh Khan</td>\n",
       "      <td>30</td>\n",
       "    </tr>\n",
       "    <tr>\n",
       "      <th>character</th>\n",
       "      <td>67586</td>\n",
       "      <td>47125</td>\n",
       "      <td>Self</td>\n",
       "      <td>1667</td>\n",
       "    </tr>\n",
       "    <tr>\n",
       "      <th>role</th>\n",
       "      <td>77213</td>\n",
       "      <td>2</td>\n",
       "      <td>ACTOR</td>\n",
       "      <td>72690</td>\n",
       "    </tr>\n",
       "  </tbody>\n",
       "</table>\n",
       "</div>"
      ],
      "text/plain": [
       "           count unique             top   freq\n",
       "id         77213   5434         tm32982    208\n",
       "name       77213  53687  Shah Rukh Khan     30\n",
       "character  67586  47125            Self   1667\n",
       "role       77213      2           ACTOR  72690"
      ]
     },
     "metadata": {},
     "output_type": "display_data"
    }
   ],
   "source": [
    "display(raw_titles.describe(include=object).T)\n",
    "display(raw_credits.describe(include=object).T)"
   ]
  },
  {
   "cell_type": "markdown",
   "id": "255c323b",
   "metadata": {
    "papermill": {
     "duration": 0.012354,
     "end_time": "2023-01-07T15:39:11.697866",
     "exception": false,
     "start_time": "2023-01-07T15:39:11.685512",
     "status": "completed"
    },
    "tags": []
   },
   "source": [
    "- Highest occured class for genres is \"Comedy\" 🎭 ! nice 😹\n",
    "\n",
    "- It is evident that films and television shows produced in the US are the most popular ones. "
   ]
  },
  {
   "cell_type": "markdown",
   "id": "f5583df0",
   "metadata": {
    "papermill": {
     "duration": 0.01214,
     "end_time": "2023-01-07T15:39:11.722678",
     "exception": false,
     "start_time": "2023-01-07T15:39:11.710538",
     "status": "completed"
    },
    "tags": []
   },
   "source": [
    "### 4 - Let's now resolve the missing values ⚙️"
   ]
  },
  {
   "cell_type": "code",
   "execution_count": 8,
   "id": "89146404",
   "metadata": {
    "execution": {
     "iopub.execute_input": "2023-01-07T15:39:11.750490Z",
     "iopub.status.busy": "2023-01-07T15:39:11.749503Z",
     "iopub.status.idle": "2023-01-07T15:39:11.772791Z",
     "shell.execute_reply": "2023-01-07T15:39:11.772065Z"
    },
    "papermill": {
     "duration": 0.039781,
     "end_time": "2023-01-07T15:39:11.775102",
     "exception": false,
     "start_time": "2023-01-07T15:39:11.735321",
     "status": "completed"
    },
    "tags": []
   },
   "outputs": [
    {
     "data": {
      "text/plain": [
       "person_id       0\n",
       "id              0\n",
       "name            0\n",
       "character    9627\n",
       "role            0\n",
       "dtype: int64"
      ]
     },
     "execution_count": 8,
     "metadata": {},
     "output_type": "execute_result"
    }
   ],
   "source": [
    "raw_credits.isnull().sum()"
   ]
  },
  {
   "cell_type": "markdown",
   "id": "192f2ebf",
   "metadata": {
    "papermill": {
     "duration": 0.012478,
     "end_time": "2023-01-07T15:39:11.800701",
     "exception": false,
     "start_time": "2023-01-07T15:39:11.788223",
     "status": "completed"
    },
    "tags": []
   },
   "source": [
    " - Since it is difficult to foresee the missing values in the \"character\" column, the best option is to **eliminate** those rows."
   ]
  },
  {
   "cell_type": "code",
   "execution_count": 9,
   "id": "3955fb51",
   "metadata": {
    "execution": {
     "iopub.execute_input": "2023-01-07T15:39:11.828219Z",
     "iopub.status.busy": "2023-01-07T15:39:11.827824Z",
     "iopub.status.idle": "2023-01-07T15:39:11.856063Z",
     "shell.execute_reply": "2023-01-07T15:39:11.854872Z"
    },
    "papermill": {
     "duration": 0.045091,
     "end_time": "2023-01-07T15:39:11.858615",
     "exception": false,
     "start_time": "2023-01-07T15:39:11.813524",
     "status": "completed"
    },
    "tags": []
   },
   "outputs": [],
   "source": [
    "raw_credits = raw_credits.dropna()"
   ]
  },
  {
   "cell_type": "code",
   "execution_count": 10,
   "id": "4cb048f5",
   "metadata": {
    "execution": {
     "iopub.execute_input": "2023-01-07T15:39:11.886587Z",
     "iopub.status.busy": "2023-01-07T15:39:11.886145Z",
     "iopub.status.idle": "2023-01-07T15:39:11.897157Z",
     "shell.execute_reply": "2023-01-07T15:39:11.896116Z"
    },
    "papermill": {
     "duration": 0.027603,
     "end_time": "2023-01-07T15:39:11.899599",
     "exception": false,
     "start_time": "2023-01-07T15:39:11.871996",
     "status": "completed"
    },
    "tags": []
   },
   "outputs": [
    {
     "data": {
      "text/plain": [
       "id                         0\n",
       "title                      1\n",
       "type                       0\n",
       "release_year               0\n",
       "age_certification       2610\n",
       "runtime                    0\n",
       "genres                     0\n",
       "production_countries       0\n",
       "seasons                 3759\n",
       "imdb_id                  444\n",
       "imdb_score               523\n",
       "imdb_votes               539\n",
       "dtype: int64"
      ]
     },
     "execution_count": 10,
     "metadata": {},
     "output_type": "execute_result"
    }
   ],
   "source": [
    "raw_titles.isnull().sum()"
   ]
  },
  {
   "cell_type": "markdown",
   "id": "a4762f25",
   "metadata": {
    "papermill": {
     "duration": 0.012502,
     "end_time": "2023-01-07T15:39:11.925204",
     "exception": false,
     "start_time": "2023-01-07T15:39:11.912702",
     "status": "completed"
    },
    "tags": []
   },
   "source": [
    "- In this dataframe as well, it is preferable to delete the rows with missing values. We can make some adjustments, such as replacing the missing values with \"no-score\" or \"no-age-certification,\" but we still don't need a lot of this data."
   ]
  },
  {
   "cell_type": "code",
   "execution_count": 11,
   "id": "8a07b912",
   "metadata": {
    "execution": {
     "iopub.execute_input": "2023-01-07T15:39:11.953149Z",
     "iopub.status.busy": "2023-01-07T15:39:11.952776Z",
     "iopub.status.idle": "2023-01-07T15:39:11.962206Z",
     "shell.execute_reply": "2023-01-07T15:39:11.961141Z"
    },
    "papermill": {
     "duration": 0.026107,
     "end_time": "2023-01-07T15:39:11.964486",
     "exception": false,
     "start_time": "2023-01-07T15:39:11.938379",
     "status": "completed"
    },
    "tags": []
   },
   "outputs": [],
   "source": [
    "raw_titles = raw_titles.dropna()"
   ]
  },
  {
   "cell_type": "markdown",
   "id": "1226bb5f",
   "metadata": {
    "papermill": {
     "duration": 0.012577,
     "end_time": "2023-01-07T15:39:11.990232",
     "exception": false,
     "start_time": "2023-01-07T15:39:11.977655",
     "status": "completed"
    },
    "tags": []
   },
   "source": [
    "#### Step one is ended, let's go to the next 🙋‍♂️, shall we?"
   ]
  },
  {
   "cell_type": "markdown",
   "id": "a7256e8a",
   "metadata": {
    "papermill": {
     "duration": 0.012756,
     "end_time": "2023-01-07T15:39:12.016647",
     "exception": false,
     "start_time": "2023-01-07T15:39:12.003891",
     "status": "completed"
    },
    "tags": []
   },
   "source": [
    "## II - Let's use an architecture diagram to clarify things"
   ]
  },
  {
   "cell_type": "markdown",
   "id": "62483dd0",
   "metadata": {
    "papermill": {
     "duration": 0.012608,
     "end_time": "2023-01-07T15:39:12.042291",
     "exception": false,
     "start_time": "2023-01-07T15:39:12.029683",
     "status": "completed"
    },
    "tags": []
   },
   "source": [
    "We will examine each component of the diagram one at a time to know what will do next"
   ]
  },
  {
   "cell_type": "markdown",
   "id": "64292dac",
   "metadata": {
    "papermill": {
     "duration": 0.012719,
     "end_time": "2023-01-07T15:39:12.067791",
     "exception": false,
     "start_time": "2023-01-07T15:39:12.055072",
     "status": "completed"
    },
    "tags": []
   },
   "source": [
    "<center><img src=\"https://raw.githubusercontent.com/mohamedabidi97/data-api-kaggle/main/assets/architecture.png\"></img></center>"
   ]
  },
  {
   "cell_type": "markdown",
   "id": "966f25cc",
   "metadata": {
    "papermill": {
     "duration": 0.013509,
     "end_time": "2023-01-07T15:39:12.094616",
     "exception": false,
     "start_time": "2023-01-07T15:39:12.081107",
     "status": "completed"
    },
    "tags": []
   },
   "source": [
    "As we can see, the diagram contains **3 major** components. Let's begin with them: "
   ]
  },
  {
   "cell_type": "markdown",
   "id": "29705157",
   "metadata": {
    "papermill": {
     "duration": 0.013001,
     "end_time": "2023-01-07T15:39:12.121231",
     "exception": false,
     "start_time": "2023-01-07T15:39:12.108230",
     "status": "completed"
    },
    "tags": []
   },
   "source": [
    "- Interface: The client side, which may take the form of a web interface, a mobile interface, or even just a request call from a your terminal or other software like Postman.\n",
    "\n",
    "- Server: Can be a cloud server or your local server for testing, we will test on both, I'm pretty sure you will like this part\n",
    "\n",
    "- Database: Where you can keep your data, and we'll be using MongoDB, a NoSQL database. "
   ]
  },
  {
   "cell_type": "code",
   "execution_count": null,
   "id": "58dffb9e",
   "metadata": {
    "papermill": {
     "duration": 0.012963,
     "end_time": "2023-01-07T15:39:12.147566",
     "exception": false,
     "start_time": "2023-01-07T15:39:12.134603",
     "status": "completed"
    },
    "tags": []
   },
   "outputs": [],
   "source": []
  }
 ],
 "metadata": {
  "kernelspec": {
   "display_name": "Python 3",
   "language": "python",
   "name": "python3"
  },
  "language_info": {
   "codemirror_mode": {
    "name": "ipython",
    "version": 3
   },
   "file_extension": ".py",
   "mimetype": "text/x-python",
   "name": "python",
   "nbconvert_exporter": "python",
   "pygments_lexer": "ipython3",
   "version": "3.7.12"
  },
  "papermill": {
   "default_parameters": {},
   "duration": 10.3432,
   "end_time": "2023-01-07T15:39:12.781382",
   "environment_variables": {},
   "exception": null,
   "input_path": "__notebook__.ipynb",
   "output_path": "__notebook__.ipynb",
   "parameters": {},
   "start_time": "2023-01-07T15:39:02.438182",
   "version": "2.3.4"
  }
 },
 "nbformat": 4,
 "nbformat_minor": 5
}
